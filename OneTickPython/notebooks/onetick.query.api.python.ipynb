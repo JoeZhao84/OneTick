{
 "cells": [
  {
   "cell_type": "markdown",
   "metadata": {},
   "source": [
    "![title](img/onemarketdata.png)"
   ]
  },
  {
   "cell_type": "markdown",
   "metadata": {},
   "source": [
    "# Quickstart Tutorial"
   ]
  },
  {
   "cell_type": "markdown",
   "metadata": {},
   "source": [
    "# Table of Contents\n",
    "[Introduction](#intro)\n",
    "\n",
    "[Prerequisites](#pre)\n",
    "  * [Preamble](#preamble)\n",
    "\n",
    "[Running queries](#run_queries)\n",
    "\n",
    "  * [The run function](#run_function)\n",
    "  * [Run existing otq files](#run_otq)\n",
    "  \n",
    "[Build Graphs via the API](#building)\n",
    "\n",
    "  * [The EventProcessor type](#basics)\n",
    "  * [The Graph type](#simple)\n",
    "  * [Graphs with multiple EventProcessors](#multi)\n",
    "  * [Multiple outputs from EventProcessors](#multi_output)\n",
    "  * [Displaying the graph](#display)\n",
    "  * [EventProcessor pins](#pins)\n",
    "  * [Labeling an EventProcessor](#labels)  \n",
    "  * [Utilities for common Graph patterns](#utilities)\n",
    "    * [Chainlet](#chainlet)\n",
    "    * [Merge](#merge)\n",
    "  * [Binding symbols to an EventProcessor](#bind)\n",
    "\n",
    "[Mulit-stage queries](#staged)\n",
    "  * [Two-stage query](#two_staged)\n",
    "  * [N-stage query](#N_staged)\n",
    "  \n",
    "[Process data via Callbacks](#callbacks)"
   ]
  },
  {
   "cell_type": "markdown",
   "metadata": {},
   "source": [
    "<a><a id=\"intro\"></a>\n",
    "# Introduction\n",
    "This tutorial is aimed at OneTick users who wish to leverage the **`onetick.query`** Python package for building and running OneTick queries. The package maps OneTick domain contructs directly to both objects and functions allowing for seamless integration with the powerful **`SciPy Stack`**, namely, with the **`NumPy`**, **`Pandas`**, and **`Matplotlib`** modules."
   ]
  },
  {
   "cell_type": "markdown",
   "metadata": {},
   "source": [
    "<a><a id=\"pre\"></a>\n",
    "# Prerequisites\n",
    "Before reading this tutorial you should already know Python (see the [Python Tutorial](http://docs.python.org/tut/)) and have some familiarlity with OneTick.\n",
    "\n",
    "If you wish to work with the examples in this tutorial you must also have Python installed and have followed the setup procedures for both of OneTick's **pyomd** and **NumPy_OneTickQuery** modules - instructions for which can be found with your distribution."
   ]
  },
  {
   "cell_type": "markdown",
   "metadata": {},
   "source": [
    "<a><a id=\"preamble\"></a>\n",
    "## Preamble\n",
    "The following imports will be used for the examples below. This cell must be executed for the cells to compute. The cell also initialises OneTickLib, this shold be done before any processing."
   ]
  },
  {
   "cell_type": "code",
   "execution_count": 1,
   "metadata": {},
   "outputs": [],
   "source": [
    "from __future__ import print_function\n",
    "import onetick.query as otq\n",
    "import matplotlib.pyplot as plt\n",
    "import pandas as pd\n",
    "from datetime import datetime\n",
    "%matplotlib inline\n",
    "pd.set_option('display.width', 200)\n",
    "lib = otq.OneTickLib(None)"
   ]
  },
  {
   "cell_type": "markdown",
   "metadata": {},
   "source": [
    "<a><a id=\"run_queries\"></a>\n",
    "# Running queries\n",
    "Queries (both existing otq files and objects such as **`onetick.query.Graph`**) can be executed via the **`onetick.query.run`** function, described below. The results returned are determined by the **`output`** parameter. The default value (None) returns a dict of dict of numpy arrays. This mode can be used for querying historic data and is suitable for redirection into Pandas DataFrames. The value 'callback' for the output parameter will return ticks to the callback object specified by the user. This can be useful for streaming results and offers more flexibility on how to direct the output of the query. "
   ]
  },
  {
   "cell_type": "markdown",
   "metadata": {},
   "source": [
    "<a><a id=\"run_function\"></a>\n",
    "# The run function\n",
    "\n",
    "Existing queries or otq files can be run via a call to **`onetick.query.run`** (the section [Build Graphs via the API](#building) shows how to construct these queries via **`onetick.query.GraphQuery`** objects). By default, data is returned as a SymbolNumpyResultMap object. Both Queries and Graphs can also be processed using callbacks via the **`output`** parameter. This is described in the section [Process data via Callbacks](#callbacks). Here are some heavily used parameters of run method. Note if otput_mode is set to QueryOutputMode.numpy the funciton corresponds to run_numpy, and if otput_mode is QueryOutputMode.callback it corresponds to run_callback\n",
    "\n",
    "**Parameters**<br>\n",
    "\n",
    "**query: str, onetick.query.GraphQuery, or onetick.query.ChainQuery**<br>\n",
    "&nbsp;&nbsp;&nbsp;&nbsp; For running otq files, it represents the path (including filename) to the otq file to run a single query within the file. If more than one query is present, then the query to be run must be specified (i.e., 'path_to_file'/otq_file.otq::query_to_run). Alternatively, a quersive.Graph object can be passed (more below).\n",
    "\n",
    "**symbols**<br>\n",
    "&nbsp;&nbsp;&nbsp;&nbsp; (list of) str or (list of) quersive.Symbol object(s) to query\n",
    "    \n",
    "**start**<br>\n",
    "&nbsp;&nbsp;&nbsp;&nbsp; The start time of the query expressed as a datetime object\n",
    "\n",
    "**end**<br>\n",
    "&nbsp;&nbsp;&nbsp;&nbsp; The end time of the query expressed as a datetime object\n",
    "\n",
    "**query_params**<br>\n",
    "&nbsp;&nbsp;&nbsp;&nbsp; (only used when an otq file is passed as the otq paramter) Parameters for parametrized queries(dictionary(param_name -> param_value)\n",
    "    \n",
    "**context**<br>\n",
    "&nbsp;&nbsp;&nbsp;&nbsp;(defaults to 'DEFAULT') allows specification of different instances of OneTick tick_servers to connect to\n",
    "\n",
    "**timezone**<br>\n",
    "&nbsp;&nbsp;&nbsp;&nbsp; The timezone of start and end times\n",
    " \n",
    "**output_mode**<br>\n",
    "&nbsp;&nbsp;&nbsp;&nbsp; The format of output, enumeration for possible values is QueryOutputMode. (By default return SymbolNumpyResultMap Object)\n",
    "\n",
    "**apply_times_daily:bool**<br>\n",
    "&nbsp;&nbsp;&nbsp;&nbsp; run the query for every day in the start_time-end_time range, using the time components of start and end times\n",
    "    \n",
    "**treat_byte_arrays_as_strings:bool**<br>\n",
    "&nbsp;&nbsp;&nbsp;&nbsp; (defaults to True) output byte arrays as strings\n",
    "\n",
    "**symbol_date**<br>\n",
    "&nbsp;&nbsp;&nbsp;&nbsp;The symbol date used to look up symbology mapping information in the reference db, expressed as datetime object\n",
    "\n",
    "**max_concurrency**<br>\n",
    "&nbsp;&nbsp;&nbsp;&nbsp; The maximum number of CPU cores to use to process the query\n",
    "\n"
   ]
  },
  {
   "cell_type": "markdown",
   "metadata": {},
   "source": [
    "<a><a id=\"run_otq\"></a>\n",
    "# Run existing otq files\n",
    "Queries contained in otq files created via the query designer, or other means, can be run by passing the path of the file to the **`onetick.query.run`** method. In addition to the path, both the name of the otq file and the name of the query to execute (if more than query is present) must be specified (note that the example query file referenced below is included in the distribution and assumes that OneTick is installed under 'C:\\OMD'.):"
   ]
  },
  {
   "cell_type": "code",
   "execution_count": 2,
   "metadata": {},
   "outputs": [
    {
     "data": {
      "text/html": [
       "<div>\n",
       "<style scoped>\n",
       "    .dataframe tbody tr th:only-of-type {\n",
       "        vertical-align: middle;\n",
       "    }\n",
       "\n",
       "    .dataframe tbody tr th {\n",
       "        vertical-align: top;\n",
       "    }\n",
       "\n",
       "    .dataframe thead th {\n",
       "        text-align: right;\n",
       "    }\n",
       "</style>\n",
       "<table border=\"1\" class=\"dataframe\">\n",
       "  <thead>\n",
       "    <tr style=\"text-align: right;\">\n",
       "      <th></th>\n",
       "      <th>Time</th>\n",
       "      <th>VWAP</th>\n",
       "    </tr>\n",
       "  </thead>\n",
       "  <tbody>\n",
       "    <tr>\n",
       "      <th>0</th>\n",
       "      <td>2003-12-01 09:35:00</td>\n",
       "      <td>21.109165</td>\n",
       "    </tr>\n",
       "    <tr>\n",
       "      <th>1</th>\n",
       "      <td>2003-12-01 09:40:00</td>\n",
       "      <td>21.241901</td>\n",
       "    </tr>\n",
       "    <tr>\n",
       "      <th>2</th>\n",
       "      <td>2003-12-01 09:45:00</td>\n",
       "      <td>21.273394</td>\n",
       "    </tr>\n",
       "    <tr>\n",
       "      <th>3</th>\n",
       "      <td>2003-12-01 09:50:00</td>\n",
       "      <td>21.360942</td>\n",
       "    </tr>\n",
       "    <tr>\n",
       "      <th>4</th>\n",
       "      <td>2003-12-01 09:55:00</td>\n",
       "      <td>21.398247</td>\n",
       "    </tr>\n",
       "  </tbody>\n",
       "</table>\n",
       "</div>"
      ],
      "text/plain": [
       "                 Time       VWAP\n",
       "0 2003-12-01 09:35:00  21.109165\n",
       "1 2003-12-01 09:40:00  21.241901\n",
       "2 2003-12-01 09:45:00  21.273394\n",
       "3 2003-12-01 09:50:00  21.360942\n",
       "4 2003-12-01 09:55:00  21.398247"
      ]
     },
     "execution_count": 2,
     "metadata": {},
     "output_type": "execute_result"
    }
   ],
   "source": [
    "otq_file='C:/OMD/one_market_data/one_tick/docs/otqs/AGGREGATION_EXAMPLES.otq::VWAP_and_Running_VWAP'\n",
    "data = otq.run_numpy(otq_file)\n",
    "pd.DataFrame(data.output('DEMO_L1::AAPL').data).head()"
   ]
  },
  {
   "cell_type": "code",
   "execution_count": 3,
   "metadata": {},
   "outputs": [
    {
     "data": {
      "text/html": [
       "<div>\n",
       "<style scoped>\n",
       "    .dataframe tbody tr th:only-of-type {\n",
       "        vertical-align: middle;\n",
       "    }\n",
       "\n",
       "    .dataframe tbody tr th {\n",
       "        vertical-align: top;\n",
       "    }\n",
       "\n",
       "    .dataframe thead th {\n",
       "        text-align: right;\n",
       "    }\n",
       "</style>\n",
       "<table border=\"1\" class=\"dataframe\">\n",
       "  <thead>\n",
       "    <tr style=\"text-align: right;\">\n",
       "      <th></th>\n",
       "      <th>Time</th>\n",
       "      <th>VWAP</th>\n",
       "    </tr>\n",
       "  </thead>\n",
       "  <tbody>\n",
       "    <tr>\n",
       "      <th>0</th>\n",
       "      <td>2003-12-01 09:35:00</td>\n",
       "      <td>96.273924</td>\n",
       "    </tr>\n",
       "    <tr>\n",
       "      <th>1</th>\n",
       "      <td>2003-12-01 09:40:00</td>\n",
       "      <td>96.566572</td>\n",
       "    </tr>\n",
       "    <tr>\n",
       "      <th>2</th>\n",
       "      <td>2003-12-01 09:45:00</td>\n",
       "      <td>96.688797</td>\n",
       "    </tr>\n",
       "    <tr>\n",
       "      <th>3</th>\n",
       "      <td>2003-12-01 09:50:00</td>\n",
       "      <td>96.772654</td>\n",
       "    </tr>\n",
       "    <tr>\n",
       "      <th>4</th>\n",
       "      <td>2003-12-01 09:55:00</td>\n",
       "      <td>96.804990</td>\n",
       "    </tr>\n",
       "  </tbody>\n",
       "</table>\n",
       "</div>"
      ],
      "text/plain": [
       "                 Time       VWAP\n",
       "0 2003-12-01 09:35:00  96.273924\n",
       "1 2003-12-01 09:40:00  96.566572\n",
       "2 2003-12-01 09:45:00  96.688797\n",
       "3 2003-12-01 09:50:00  96.772654\n",
       "4 2003-12-01 09:55:00  96.804990"
      ]
     },
     "execution_count": 3,
     "metadata": {},
     "output_type": "execute_result"
    }
   ],
   "source": [
    "otq_file='C:/OMD/one_market_data/one_tick/docs/otqs/AGGREGATION_EXAMPLES.otq::VWAP_and_Running_VWAP'\n",
    "data = otq.run(otq_file,symbols='FULL_DEMO_L1::GS')\n",
    "pd.DataFrame(data.output('FULL_DEMO_L1::GS').data).head()"
   ]
  },
  {
   "cell_type": "markdown",
   "metadata": {},
   "source": [
    "As shown above, an otq file can be run 'as-is', meaning that all of the parameters set in the otq file (i.e., the symbol(s), dates, etc.) are used to execute the query. For example, the above query in the above otq file (distributed with OneTick) performs a VWAP calculation on the symbol 'DEMO_L1::AAPL'. Parameters can be overidden if they are passed to the above function. For example, the same query can be used for a different symbol:"
   ]
  },
  {
   "cell_type": "markdown",
   "metadata": {},
   "source": [
    "<a><a id=\"building\"></a>\n",
    "# Build Graphs via the API\n",
    "<a><a id=\"basics\"></a>\n",
    "## The EpBase type\n",
    "\n",
    "The EpBase (EP) is the basic type in the **`onetick.query`** module. It is used to perform all of the analytics in OneTick and can be combined to construct powerful graphs via an intuitive interface. All EPs inherit from a single abstract class:\n",
    "**`onetick.query.EpBase`**:\n",
    "\n",
    "### Methods\n",
    "\n",
    "**`EpBase.sink`**<br>\n",
    "&nbsp;&nbsp;&nbsp;&nbsp;sink an event processor to this event processor. Returns the sinked EventProcessor\n",
    "\n",
    "**`EpBase.source`**:<br>\n",
    "&nbsp;&nbsp;&nbsp;&nbsp;source an event processor to this event processor. Returns the sourced EventProcessor\n",
    "\n",
    "**`EpBase.__lshift__`**:<br>\n",
    "&nbsp;&nbsp;&nbsp;&nbsp;overloads the >> operator and equivalent to EventProcessor.sink\n",
    "\n",
    "**`EpBase.__rshift__`**:<br>\n",
    "&nbsp;&nbsp;&nbsp;&nbsp;overloads the << operator and equivalent to EventProcessor.source\n",
    "    \n",
    "**`EpBase.tick_type`**<br>\n",
    "&nbsp;&nbsp;&nbsp;&nbsp;set the tick_type of the event processor. Returns self.\n",
    "        \n",
    "**`EpBase.node_name`**<br>\n",
    "&nbsp;&nbsp;&nbsp;&nbsp;name the event processor. Returns self.\n",
    "            \n",
    "**`EpBase.symbol`**<br>\n",
    "&nbsp;&nbsp;&nbsp;&nbsp;bind a symbol to the event processor. Returns self.\n",
    "\n",
    "**`EventProcessor.__getitem__`**<br>\n",
    "&nbsp;&nbsp;&nbsp;&nbsp;attach to the output pin of the event processor (i.e., 'if','else') (only available on filter EPs)\n",
    "        \n",
    "<br>\n",
    "\n",
    "All of OneTick's EPs are exposed as python objects in the module. For example, the AddField EP can be instantiated like:\n"
   ]
  },
  {
   "cell_type": "code",
   "execution_count": 4,
   "metadata": {},
   "outputs": [
    {
     "name": "stdout",
     "output_type": "stream",
     "text": [
      "AddField(field='',value='')\n",
      "<class 'onetick.query.ep.eps.AddField'>\n"
     ]
    },
    {
     "data": {
      "text/plain": [
       "True"
      ]
     },
     "execution_count": 4,
     "metadata": {},
     "output_type": "execute_result"
    }
   ],
   "source": [
    "a = otq.AddField()\n",
    "print(repr(a))\n",
    "print(type(a))\n",
    "isinstance(a,otq.EpBase)"
   ]
  },
  {
   "cell_type": "markdown",
   "metadata": {},
   "source": [
    "The above output demonstrates that the call to **`otq.AddField`** returns an object of type **`onetick.query.AddField`** that inherits from the abstract class **`onetick.query.EpBase`**. Each call to an EP with no parameters passed in will populate its attributes with that EP's default values, also shown above."
   ]
  },
  {
   "cell_type": "markdown",
   "metadata": {},
   "source": [
    "All of the EP's attributes are listed in its constructor. For example, OneTick's AddField EP signature is:\n",
    "\n",
    "```python\n",
    "class AddField(field='',value='')\n",
    "```\n",
    "\n",
    "The above signfies that each EP has it's own set of attributes as listed in its constructor and can be accessed in the usual way. For example, once instantiated, the 'field' attribute of the resulting 'AddField' can be accessed and set like:\n"
   ]
  },
  {
   "cell_type": "code",
   "execution_count": 5,
   "metadata": {},
   "outputs": [
    {
     "name": "stdout",
     "output_type": "stream",
     "text": [
      "ADD_FIELD\n",
      "\n",
      "New_Field\n",
      "New_Value\n"
     ]
    }
   ],
   "source": [
    "a = otq.AddField()\n",
    "\n",
    "print(a)\n",
    "\n",
    "#set attributes\n",
    "a.field='New_Field'\n",
    "a.value = 'New_Value'\n",
    "\n",
    "print(a.field)\n",
    "print(a.value)    "
   ]
  },
  {
   "cell_type": "markdown",
   "metadata": {},
   "source": [
    "Note that certain 'parameter's of EPs are actually functions that return the **`self`**. For example, the **`tick_type`** and **`node_name`** methods actually return the same AddField object, as shown below. This is useful for \"chaining\" when building graphs (more below).\n"
   ]
  },
  {
   "cell_type": "code",
   "execution_count": 6,
   "metadata": {},
   "outputs": [
    {
     "name": "stdout",
     "output_type": "stream",
     "text": [
      "ADD_FIELD\n",
      "\n",
      "add_field\n"
     ]
    },
    {
     "data": {
      "text/plain": [
       "True"
      ]
     },
     "execution_count": 6,
     "metadata": {},
     "output_type": "execute_result"
    }
   ],
   "source": [
    "a = otq.AddField()\n",
    "\n",
    "print(a)\n",
    "b = a.node_name('add_field')\n",
    "print(a.node_name())\n",
    "a is b"
   ]
  },
  {
   "cell_type": "markdown",
   "metadata": {},
   "source": [
    "<a><a id=\"simple\"></a>\n",
    "## The GraphQuery type\n",
    "\n",
    "The GraphQuery type represents a collection of EPs.\n",
    "\n",
    "**`Graph.save_to_file`**:<br>\n",
    "&nbsp;&nbsp;&nbsp;&nbsp;Save the Graph to an otq file.\n",
    "\n",
    "**`Graph.render`**:<br>\n",
    "&nbsp;&nbsp;&nbsp;&nbsp; draw the Graph in the jupyter notebook or to an image, svg, etc.\n",
    "\n",
    "\n",
    "The below code creates a passthrough, instantiates a Graph object, and runs it via the **`onetick.run`**:"
   ]
  },
  {
   "cell_type": "code",
   "execution_count": 7,
   "metadata": {},
   "outputs": [
    {
     "data": {
      "text/plain": [
       "SymbolNumpyResultMap({'FULL_DEMO_L1::GS': {'PASSTHROUGH': ({'Time': array(['2005-01-03T09:31:52.011000', '2005-01-03T09:31:53.008000',\n",
       "       '2005-01-03T09:31:53.508000', ..., '2005-01-03T15:59:43.664000',\n",
       "       '2005-01-03T15:59:45.164000', '2005-01-03T15:59:53.164000'],\n",
       "      dtype='datetime64[us]'), 'PRICE': array([104.9 , 104.9 , 104.9 , ..., 104.85, 104.86, 104.86]), 'SIZE': array([40400,  1200,  1000, ...,  1200,  4900, 10000], dtype=int32), 'EXCHANGE': array(['N', 'T', 'T', ..., 'N', 'N', 'N'], dtype='<U1')}, [])}})"
      ]
     },
     "execution_count": 7,
     "metadata": {},
     "output_type": "execute_result"
    }
   ],
   "source": [
    "p = otq.Passthrough(fields='PRICE,SIZE,EXCHANGE',go_back_to_first_tick=600).tick_type('TRD')\n",
    "g = otq.GraphQuery(p)\n",
    "result=otq.run(g,symbols='FULL_DEMO_L1::GS',start=datetime(2005,1,3,9,30),end=datetime(2005,1,3,16))\n",
    "result"
   ]
  },
  {
   "cell_type": "markdown",
   "metadata": {},
   "source": [
    "Note that the output of the above is a an SymbolNumpyResultMap object. to get the data for certain symbol we use result.output('symbol').data or result['symbol']. The data is a dictionary from fields name to numpy array of it's values, this allows for easy facilitation of creating a pandas DataFrame object:"
   ]
  },
  {
   "cell_type": "code",
   "execution_count": 8,
   "metadata": {},
   "outputs": [
    {
     "data": {
      "text/html": [
       "<div>\n",
       "<style scoped>\n",
       "    .dataframe tbody tr th:only-of-type {\n",
       "        vertical-align: middle;\n",
       "    }\n",
       "\n",
       "    .dataframe tbody tr th {\n",
       "        vertical-align: top;\n",
       "    }\n",
       "\n",
       "    .dataframe thead th {\n",
       "        text-align: right;\n",
       "    }\n",
       "</style>\n",
       "<table border=\"1\" class=\"dataframe\">\n",
       "  <thead>\n",
       "    <tr style=\"text-align: right;\">\n",
       "      <th></th>\n",
       "      <th>Time</th>\n",
       "      <th>PRICE</th>\n",
       "      <th>SIZE</th>\n",
       "      <th>EXCHANGE</th>\n",
       "    </tr>\n",
       "  </thead>\n",
       "  <tbody>\n",
       "    <tr>\n",
       "      <th>0</th>\n",
       "      <td>2005-01-03 09:31:52.011</td>\n",
       "      <td>104.9</td>\n",
       "      <td>40400</td>\n",
       "      <td>N</td>\n",
       "    </tr>\n",
       "    <tr>\n",
       "      <th>1</th>\n",
       "      <td>2005-01-03 09:31:53.008</td>\n",
       "      <td>104.9</td>\n",
       "      <td>1200</td>\n",
       "      <td>T</td>\n",
       "    </tr>\n",
       "    <tr>\n",
       "      <th>2</th>\n",
       "      <td>2005-01-03 09:31:53.508</td>\n",
       "      <td>104.9</td>\n",
       "      <td>1000</td>\n",
       "      <td>T</td>\n",
       "    </tr>\n",
       "    <tr>\n",
       "      <th>3</th>\n",
       "      <td>2005-01-03 09:31:53.511</td>\n",
       "      <td>104.9</td>\n",
       "      <td>100</td>\n",
       "      <td>T</td>\n",
       "    </tr>\n",
       "    <tr>\n",
       "      <th>4</th>\n",
       "      <td>2005-01-03 09:31:53.515</td>\n",
       "      <td>104.9</td>\n",
       "      <td>200</td>\n",
       "      <td>T</td>\n",
       "    </tr>\n",
       "  </tbody>\n",
       "</table>\n",
       "</div>"
      ],
      "text/plain": [
       "                     Time  PRICE   SIZE EXCHANGE\n",
       "0 2005-01-03 09:31:52.011  104.9  40400        N\n",
       "1 2005-01-03 09:31:53.008  104.9   1200        T\n",
       "2 2005-01-03 09:31:53.508  104.9   1000        T\n",
       "3 2005-01-03 09:31:53.511  104.9    100        T\n",
       "4 2005-01-03 09:31:53.515  104.9    200        T"
      ]
     },
     "execution_count": 8,
     "metadata": {},
     "output_type": "execute_result"
    }
   ],
   "source": [
    "pd.DataFrame(result.output('FULL_DEMO_L1::GS').data).head()\n",
    "# or \n",
    "pd.DataFrame(result['FULL_DEMO_L1::GS']).head() # same as the above"
   ]
  },
  {
   "cell_type": "markdown",
   "metadata": {},
   "source": [
    "<a><a id=\"multi\"></a>\n",
    "## Graphs with multiple EventProcessors"
   ]
  },
  {
   "cell_type": "markdown",
   "metadata": {},
   "source": [
    "Graphs can be constructed by sinking or sourcing EPs to one another. To filter the above results on PRICE, for example, sink a where_clause:"
   ]
  },
  {
   "cell_type": "code",
   "execution_count": 9,
   "metadata": {},
   "outputs": [
    {
     "data": {
      "text/html": [
       "<div>\n",
       "<style scoped>\n",
       "    .dataframe tbody tr th:only-of-type {\n",
       "        vertical-align: middle;\n",
       "    }\n",
       "\n",
       "    .dataframe tbody tr th {\n",
       "        vertical-align: top;\n",
       "    }\n",
       "\n",
       "    .dataframe thead th {\n",
       "        text-align: right;\n",
       "    }\n",
       "</style>\n",
       "<table border=\"1\" class=\"dataframe\">\n",
       "  <thead>\n",
       "    <tr style=\"text-align: right;\">\n",
       "      <th></th>\n",
       "      <th>Time</th>\n",
       "      <th>PRICE</th>\n",
       "      <th>SEQ_NUM</th>\n",
       "      <th>DELETED_TIME</th>\n",
       "      <th>SIZE</th>\n",
       "      <th>CORR</th>\n",
       "      <th>COND</th>\n",
       "      <th>TICK_STATUS</th>\n",
       "      <th>STOP_STOCK</th>\n",
       "      <th>SOURCE</th>\n",
       "      <th>EXCHANGE</th>\n",
       "      <th>TICKER</th>\n",
       "      <th>OMDSEQ</th>\n",
       "    </tr>\n",
       "  </thead>\n",
       "  <tbody>\n",
       "    <tr>\n",
       "      <th>0</th>\n",
       "      <td>2005-01-03 09:35:52.659</td>\n",
       "      <td>105.05</td>\n",
       "      <td>1971504952659752</td>\n",
       "      <td>1969-12-31 19:00:00</td>\n",
       "      <td>1500</td>\n",
       "      <td>0</td>\n",
       "      <td></td>\n",
       "      <td>0</td>\n",
       "      <td>N</td>\n",
       "      <td>C</td>\n",
       "      <td>N</td>\n",
       "      <td>G</td>\n",
       "      <td>0</td>\n",
       "    </tr>\n",
       "    <tr>\n",
       "      <th>1</th>\n",
       "      <td>2005-01-03 09:35:56.661</td>\n",
       "      <td>105.05</td>\n",
       "      <td>1971504956661036</td>\n",
       "      <td>1969-12-31 19:00:00</td>\n",
       "      <td>200</td>\n",
       "      <td>0</td>\n",
       "      <td>E</td>\n",
       "      <td>0</td>\n",
       "      <td>N</td>\n",
       "      <td>C</td>\n",
       "      <td>N</td>\n",
       "      <td>G</td>\n",
       "      <td>0</td>\n",
       "    </tr>\n",
       "    <tr>\n",
       "      <th>2</th>\n",
       "      <td>2005-01-03 09:35:58.660</td>\n",
       "      <td>105.08</td>\n",
       "      <td>1971504958660452</td>\n",
       "      <td>1969-12-31 19:00:00</td>\n",
       "      <td>500</td>\n",
       "      <td>0</td>\n",
       "      <td>E</td>\n",
       "      <td>0</td>\n",
       "      <td>N</td>\n",
       "      <td>C</td>\n",
       "      <td>N</td>\n",
       "      <td>G</td>\n",
       "      <td>0</td>\n",
       "    </tr>\n",
       "    <tr>\n",
       "      <th>3</th>\n",
       "      <td>2005-01-03 09:36:00.661</td>\n",
       "      <td>105.08</td>\n",
       "      <td>1971504960661857</td>\n",
       "      <td>1969-12-31 19:00:00</td>\n",
       "      <td>100</td>\n",
       "      <td>0</td>\n",
       "      <td></td>\n",
       "      <td>0</td>\n",
       "      <td>N</td>\n",
       "      <td>C</td>\n",
       "      <td>N</td>\n",
       "      <td>G</td>\n",
       "      <td>0</td>\n",
       "    </tr>\n",
       "    <tr>\n",
       "      <th>4</th>\n",
       "      <td>2005-01-03 09:36:01.161</td>\n",
       "      <td>105.07</td>\n",
       "      <td>1971504961161477</td>\n",
       "      <td>1969-12-31 19:00:00</td>\n",
       "      <td>100</td>\n",
       "      <td>0</td>\n",
       "      <td></td>\n",
       "      <td>0</td>\n",
       "      <td>N</td>\n",
       "      <td>C</td>\n",
       "      <td>N</td>\n",
       "      <td>G</td>\n",
       "      <td>0</td>\n",
       "    </tr>\n",
       "  </tbody>\n",
       "</table>\n",
       "</div>"
      ],
      "text/plain": [
       "                     Time   PRICE           SEQ_NUM        DELETED_TIME  SIZE  CORR COND  TICK_STATUS STOP_STOCK SOURCE EXCHANGE TICKER  OMDSEQ\n",
       "0 2005-01-03 09:35:52.659  105.05  1971504952659752 1969-12-31 19:00:00  1500     0                 0          N      C        N      G       0\n",
       "1 2005-01-03 09:35:56.661  105.05  1971504956661036 1969-12-31 19:00:00   200     0    E            0          N      C        N      G       0\n",
       "2 2005-01-03 09:35:58.660  105.08  1971504958660452 1969-12-31 19:00:00   500     0    E            0          N      C        N      G       0\n",
       "3 2005-01-03 09:36:00.661  105.08  1971504960661857 1969-12-31 19:00:00   100     0                 0          N      C        N      G       0\n",
       "4 2005-01-03 09:36:01.161  105.07  1971504961161477 1969-12-31 19:00:00   100     0                 0          N      C        N      G       0"
      ]
     },
     "execution_count": 9,
     "metadata": {},
     "output_type": "execute_result"
    }
   ],
   "source": [
    "where = otq.WhereClause(where='PRICE > 105')\n",
    "p = otq.Passthrough().tick_type('TRD')\n",
    "p.sink(where)\n",
    "g = otq.Graph(where)\n",
    "result = otq.run(g,symbols='FULL_DEMO_L1::GS',start=datetime(2005,1,3,9,30),end=datetime(2005,1,3,16))\n",
    "pd.DataFrame(result.output('FULL_DEMO_L1::GS').data).head()"
   ]
  },
  {
   "cell_type": "markdown",
   "metadata": {},
   "source": [
    "EPs support chaining sinks and sources, so that separate calls to sink or source can occur simultaneously. For example, the above example can be chained like:"
   ]
  },
  {
   "cell_type": "code",
   "execution_count": 10,
   "metadata": {},
   "outputs": [
    {
     "data": {
      "text/html": [
       "<div>\n",
       "<style scoped>\n",
       "    .dataframe tbody tr th:only-of-type {\n",
       "        vertical-align: middle;\n",
       "    }\n",
       "\n",
       "    .dataframe tbody tr th {\n",
       "        vertical-align: top;\n",
       "    }\n",
       "\n",
       "    .dataframe thead th {\n",
       "        text-align: right;\n",
       "    }\n",
       "</style>\n",
       "<table border=\"1\" class=\"dataframe\">\n",
       "  <thead>\n",
       "    <tr style=\"text-align: right;\">\n",
       "      <th></th>\n",
       "      <th>Time</th>\n",
       "      <th>PRICE</th>\n",
       "      <th>SIZE</th>\n",
       "      <th>EXCHANGE</th>\n",
       "    </tr>\n",
       "  </thead>\n",
       "  <tbody>\n",
       "    <tr>\n",
       "      <th>0</th>\n",
       "      <td>2005-01-03 09:35:52.659</td>\n",
       "      <td>105.05</td>\n",
       "      <td>1500</td>\n",
       "      <td>N</td>\n",
       "    </tr>\n",
       "    <tr>\n",
       "      <th>1</th>\n",
       "      <td>2005-01-03 09:35:56.661</td>\n",
       "      <td>105.05</td>\n",
       "      <td>200</td>\n",
       "      <td>N</td>\n",
       "    </tr>\n",
       "    <tr>\n",
       "      <th>2</th>\n",
       "      <td>2005-01-03 09:35:58.660</td>\n",
       "      <td>105.08</td>\n",
       "      <td>500</td>\n",
       "      <td>N</td>\n",
       "    </tr>\n",
       "    <tr>\n",
       "      <th>3</th>\n",
       "      <td>2005-01-03 09:36:00.661</td>\n",
       "      <td>105.08</td>\n",
       "      <td>100</td>\n",
       "      <td>N</td>\n",
       "    </tr>\n",
       "    <tr>\n",
       "      <th>4</th>\n",
       "      <td>2005-01-03 09:36:01.161</td>\n",
       "      <td>105.07</td>\n",
       "      <td>100</td>\n",
       "      <td>N</td>\n",
       "    </tr>\n",
       "  </tbody>\n",
       "</table>\n",
       "</div>"
      ],
      "text/plain": [
       "                     Time   PRICE  SIZE EXCHANGE\n",
       "0 2005-01-03 09:35:52.659  105.05  1500        N\n",
       "1 2005-01-03 09:35:56.661  105.05   200        N\n",
       "2 2005-01-03 09:35:58.660  105.08   500        N\n",
       "3 2005-01-03 09:36:00.661  105.08   100        N\n",
       "4 2005-01-03 09:36:01.161  105.07   100        N"
      ]
     },
     "execution_count": 10,
     "metadata": {},
     "output_type": "execute_result"
    }
   ],
   "source": [
    "where = otq.WhereClause(where='PRICE > 105')\n",
    "p = otq.Passthrough().tick_type('TRD')\n",
    "p.sink(where).sink(otq.Table(fields='PRICE,SIZE,EXCHANGE'))\n",
    "g = otq.Graph(p)\n",
    "result = otq.run(g,symbols='FULL_DEMO_L1::GS',start=datetime(2005,1,3,9,30),end=datetime(2005,1,3,16))\n",
    "pd.DataFrame(result.output('FULL_DEMO_L1::GS').data).head()"
   ]
  },
  {
   "cell_type": "markdown",
   "metadata": {},
   "source": [
    "Sinking or sourcing can result in overly verbose code, expecially if chaining calls. The above can be achieved instead via operators in place of the 'sink' or 'source' methods:"
   ]
  },
  {
   "cell_type": "code",
   "execution_count": 11,
   "metadata": {
    "scrolled": true
   },
   "outputs": [
    {
     "data": {
      "text/html": [
       "<div>\n",
       "<style scoped>\n",
       "    .dataframe tbody tr th:only-of-type {\n",
       "        vertical-align: middle;\n",
       "    }\n",
       "\n",
       "    .dataframe tbody tr th {\n",
       "        vertical-align: top;\n",
       "    }\n",
       "\n",
       "    .dataframe thead th {\n",
       "        text-align: right;\n",
       "    }\n",
       "</style>\n",
       "<table border=\"1\" class=\"dataframe\">\n",
       "  <thead>\n",
       "    <tr style=\"text-align: right;\">\n",
       "      <th></th>\n",
       "      <th>PRICE</th>\n",
       "      <th>SIZE</th>\n",
       "      <th>EXCHANGE</th>\n",
       "    </tr>\n",
       "    <tr>\n",
       "      <th>Time</th>\n",
       "      <th></th>\n",
       "      <th></th>\n",
       "      <th></th>\n",
       "    </tr>\n",
       "  </thead>\n",
       "  <tbody>\n",
       "    <tr>\n",
       "      <th>2005-01-03 09:35:52.659</th>\n",
       "      <td>105.05</td>\n",
       "      <td>1500</td>\n",
       "      <td>N</td>\n",
       "    </tr>\n",
       "    <tr>\n",
       "      <th>2005-01-03 09:35:56.661</th>\n",
       "      <td>105.05</td>\n",
       "      <td>200</td>\n",
       "      <td>N</td>\n",
       "    </tr>\n",
       "    <tr>\n",
       "      <th>2005-01-03 09:35:58.660</th>\n",
       "      <td>105.08</td>\n",
       "      <td>500</td>\n",
       "      <td>N</td>\n",
       "    </tr>\n",
       "    <tr>\n",
       "      <th>2005-01-03 09:36:00.661</th>\n",
       "      <td>105.08</td>\n",
       "      <td>100</td>\n",
       "      <td>N</td>\n",
       "    </tr>\n",
       "    <tr>\n",
       "      <th>2005-01-03 09:36:01.161</th>\n",
       "      <td>105.07</td>\n",
       "      <td>100</td>\n",
       "      <td>N</td>\n",
       "    </tr>\n",
       "  </tbody>\n",
       "</table>\n",
       "</div>"
      ],
      "text/plain": [
       "                          PRICE  SIZE EXCHANGE\n",
       "Time                                          \n",
       "2005-01-03 09:35:52.659  105.05  1500        N\n",
       "2005-01-03 09:35:56.661  105.05   200        N\n",
       "2005-01-03 09:35:58.660  105.08   500        N\n",
       "2005-01-03 09:36:00.661  105.08   100        N\n",
       "2005-01-03 09:36:01.161  105.07   100        N"
      ]
     },
     "execution_count": 11,
     "metadata": {},
     "output_type": "execute_result"
    }
   ],
   "source": [
    "query = otq.Passthrough().tick_type('TRD') >> otq.WhereClause(where='PRICE > 105') >> otq.Table(fields='PRICE,SIZE,EXCHANGE')\n",
    "g = otq.Graph(query)\n",
    "result = otq.run(g,symbols='FULL_DEMO_L1::GS',start=datetime(2005,1,3,9,30),end=datetime(2005,1,3,16))\n",
    "pd.DataFrame(result.output('FULL_DEMO_L1::GS').data).set_index(['Time']).head()"
   ]
  },
  {
   "cell_type": "markdown",
   "metadata": {},
   "source": [
    "Sourcing the where_clause can be easily achieved as well:"
   ]
  },
  {
   "cell_type": "code",
   "execution_count": 12,
   "metadata": {},
   "outputs": [
    {
     "data": {
      "text/html": [
       "<div>\n",
       "<style scoped>\n",
       "    .dataframe tbody tr th:only-of-type {\n",
       "        vertical-align: middle;\n",
       "    }\n",
       "\n",
       "    .dataframe tbody tr th {\n",
       "        vertical-align: top;\n",
       "    }\n",
       "\n",
       "    .dataframe thead th {\n",
       "        text-align: right;\n",
       "    }\n",
       "</style>\n",
       "<table border=\"1\" class=\"dataframe\">\n",
       "  <thead>\n",
       "    <tr style=\"text-align: right;\">\n",
       "      <th></th>\n",
       "      <th>Time</th>\n",
       "      <th>PRICE</th>\n",
       "      <th>SEQ_NUM</th>\n",
       "      <th>DELETED_TIME</th>\n",
       "      <th>SIZE</th>\n",
       "      <th>CORR</th>\n",
       "      <th>COND</th>\n",
       "      <th>TICK_STATUS</th>\n",
       "      <th>STOP_STOCK</th>\n",
       "      <th>SOURCE</th>\n",
       "      <th>EXCHANGE</th>\n",
       "      <th>TICKER</th>\n",
       "      <th>OMDSEQ</th>\n",
       "    </tr>\n",
       "  </thead>\n",
       "  <tbody>\n",
       "    <tr>\n",
       "      <th>0</th>\n",
       "      <td>2005-01-03 09:35:52.659</td>\n",
       "      <td>105.05</td>\n",
       "      <td>1971504952659752</td>\n",
       "      <td>1969-12-31 19:00:00</td>\n",
       "      <td>1500</td>\n",
       "      <td>0</td>\n",
       "      <td></td>\n",
       "      <td>0</td>\n",
       "      <td>N</td>\n",
       "      <td>C</td>\n",
       "      <td>N</td>\n",
       "      <td>G</td>\n",
       "      <td>0</td>\n",
       "    </tr>\n",
       "    <tr>\n",
       "      <th>1</th>\n",
       "      <td>2005-01-03 09:35:56.661</td>\n",
       "      <td>105.05</td>\n",
       "      <td>1971504956661036</td>\n",
       "      <td>1969-12-31 19:00:00</td>\n",
       "      <td>200</td>\n",
       "      <td>0</td>\n",
       "      <td>E</td>\n",
       "      <td>0</td>\n",
       "      <td>N</td>\n",
       "      <td>C</td>\n",
       "      <td>N</td>\n",
       "      <td>G</td>\n",
       "      <td>0</td>\n",
       "    </tr>\n",
       "    <tr>\n",
       "      <th>2</th>\n",
       "      <td>2005-01-03 09:35:58.660</td>\n",
       "      <td>105.08</td>\n",
       "      <td>1971504958660452</td>\n",
       "      <td>1969-12-31 19:00:00</td>\n",
       "      <td>500</td>\n",
       "      <td>0</td>\n",
       "      <td>E</td>\n",
       "      <td>0</td>\n",
       "      <td>N</td>\n",
       "      <td>C</td>\n",
       "      <td>N</td>\n",
       "      <td>G</td>\n",
       "      <td>0</td>\n",
       "    </tr>\n",
       "    <tr>\n",
       "      <th>3</th>\n",
       "      <td>2005-01-03 09:36:00.661</td>\n",
       "      <td>105.08</td>\n",
       "      <td>1971504960661857</td>\n",
       "      <td>1969-12-31 19:00:00</td>\n",
       "      <td>100</td>\n",
       "      <td>0</td>\n",
       "      <td></td>\n",
       "      <td>0</td>\n",
       "      <td>N</td>\n",
       "      <td>C</td>\n",
       "      <td>N</td>\n",
       "      <td>G</td>\n",
       "      <td>0</td>\n",
       "    </tr>\n",
       "    <tr>\n",
       "      <th>4</th>\n",
       "      <td>2005-01-03 09:36:01.161</td>\n",
       "      <td>105.07</td>\n",
       "      <td>1971504961161477</td>\n",
       "      <td>1969-12-31 19:00:00</td>\n",
       "      <td>100</td>\n",
       "      <td>0</td>\n",
       "      <td></td>\n",
       "      <td>0</td>\n",
       "      <td>N</td>\n",
       "      <td>C</td>\n",
       "      <td>N</td>\n",
       "      <td>G</td>\n",
       "      <td>0</td>\n",
       "    </tr>\n",
       "  </tbody>\n",
       "</table>\n",
       "</div>"
      ],
      "text/plain": [
       "                     Time   PRICE           SEQ_NUM        DELETED_TIME  SIZE  CORR COND  TICK_STATUS STOP_STOCK SOURCE EXCHANGE TICKER  OMDSEQ\n",
       "0 2005-01-03 09:35:52.659  105.05  1971504952659752 1969-12-31 19:00:00  1500     0                 0          N      C        N      G       0\n",
       "1 2005-01-03 09:35:56.661  105.05  1971504956661036 1969-12-31 19:00:00   200     0    E            0          N      C        N      G       0\n",
       "2 2005-01-03 09:35:58.660  105.08  1971504958660452 1969-12-31 19:00:00   500     0    E            0          N      C        N      G       0\n",
       "3 2005-01-03 09:36:00.661  105.08  1971504960661857 1969-12-31 19:00:00   100     0                 0          N      C        N      G       0\n",
       "4 2005-01-03 09:36:01.161  105.07  1971504961161477 1969-12-31 19:00:00   100     0                 0          N      C        N      G       0"
      ]
     },
     "execution_count": 12,
     "metadata": {},
     "output_type": "execute_result"
    }
   ],
   "source": [
    "query = otq.Passthrough().tick_type('TRD') << otq.WhereClause(where='PRICE > 105')\n",
    "result = otq.run(otq.Graph(query),symbols='FULL_DEMO_L1::GS',start=datetime(2005,1,3,9,30),end=datetime(2005,1,3,16))\n",
    "pd.DataFrame(result.output('FULL_DEMO_L1::GS').data).head()"
   ]
  },
  {
   "cell_type": "markdown",
   "metadata": {},
   "source": [
    "<a><a id=\"multi_output\"></a>\n",
    "## Multiple outputs from EventProcessors\n",
    "By default, only leaf-nodes (defined as those EPs that do not have any sinks and are not sourced by any other EP) automatically output data from the graph. In all of the examples thus far, only a single leaf node is present. Any EP, however, can output data if node_name method is called with always_output_data=True parameter. If there are multiple outputs the node_name sould be specified via the result.output method or to the [] operator. The below example outputs from both EPs:"
   ]
  },
  {
   "cell_type": "code",
   "execution_count": 13,
   "metadata": {},
   "outputs": [
    {
     "name": "stdout",
     "output_type": "stream",
     "text": [
      "pass\n",
      "None\n",
      "{'Time': array(['2005-01-03T09:31:52.011000', '2005-01-03T09:31:53.008000',\n",
      "       '2005-01-03T09:31:53.508000', ..., '2005-01-03T15:59:43.664000',\n",
      "       '2005-01-03T15:59:45.164000', '2005-01-03T15:59:53.164000'],\n",
      "      dtype='datetime64[us]'), 'PRICE': array([104.9 , 104.9 , 104.9 , ..., 104.85, 104.86, 104.86])}\n",
      "{'Time': array(['2005-01-03T09:31:52.011000', '2005-01-03T09:31:53.008000',\n",
      "       '2005-01-03T09:31:53.508000', ..., '2005-01-03T15:59:43.664000',\n",
      "       '2005-01-03T15:59:45.164000', '2005-01-03T15:59:53.164000'],\n",
      "      dtype='datetime64[us]'), 'PRICE': array([104.9 , 104.9 , 104.9 , ..., 104.85, 104.86, 104.86])}\n"
     ]
    }
   ],
   "source": [
    "graph = otq.Passthrough(fields='PRICE').tick_type('TRD').node_name('pass', always_output_data=True) >>\\\n",
    "otq.WhereClause(where='PRICE>10').node_name('where', always_output_data=True)\n",
    "g = otq.Graph(graph)\n",
    "g.start_time(datetime(2005,1,3,9,30))\n",
    "g.end_time(datetime(2005,1,3,16))\n",
    "result = otq.run(g,symbols='FULL_DEMO_L1::GS')\n",
    "output_from_pass = result.output('FULL_DEMO_L1::GS', node_name='pass')\n",
    "output_from_where = result.output('FULL_DEMO_L1::GS', node_name='where')\n",
    "\n",
    "#print the output\n",
    "print(output_from_pass.name)\n",
    "print(output_from_pass.error)\n",
    "print(output_from_pass.data)\n",
    "print(result['FULL_DEMO_L1::GS', 'pass']) #same as the above line"
   ]
  },
  {
   "cell_type": "markdown",
   "metadata": {},
   "source": [
    "<a><a id=\"display\"></a>\n",
    "## Displaying the graph\n",
    "Sometimes it is convenient to visualize the graph being constructed, especially for more complex graphs with several-to-many EPs. **`onetick.query`** leverages the **`graphviz`** module to render the graph. A call to **`onetick.query.Graph.render`** will render the graph. If this method is called inside of a jupyter notebook it will be displayed in the output cell by default. The parameter **`format`** allows other types of renderings, including a 'png', 'svg', 'pdf' formats and others; the parameter **`verbose`** allows for all information (i.e., parameters, tick_type, symbols, etc.) to be displayed. The **`graphviz`** application must be installed, as well as pip installed (i.e., pip install graphviz or conda install graphviz). The cells below demonstrate some simple renderings of the previous filtered examples:"
   ]
  },
  {
   "cell_type": "code",
   "execution_count": 14,
   "metadata": {},
   "outputs": [
    {
     "data": {
      "image/svg+xml": [
       "<?xml version=\"1.0\" encoding=\"UTF-8\" standalone=\"no\"?>\r\n",
       "<!DOCTYPE svg PUBLIC \"-//W3C//DTD SVG 1.1//EN\"\r\n",
       " \"http://www.w3.org/Graphics/SVG/1.1/DTD/svg11.dtd\">\r\n",
       "<!-- Generated by graphviz version 2.38.0 (20140413.2041)\r\n",
       " -->\r\n",
       "<!-- Title: %3 Pages: 1 -->\r\n",
       "<svg width=\"174pt\" height=\"116pt\"\r\n",
       " viewBox=\"0.00 0.00 174.39 116.00\" xmlns=\"http://www.w3.org/2000/svg\" xmlns:xlink=\"http://www.w3.org/1999/xlink\">\r\n",
       "<g id=\"graph0\" class=\"graph\" transform=\"scale(1 1) rotate(0) translate(4 112)\">\r\n",
       "<title>%3</title>\r\n",
       "<polygon fill=\"white\" stroke=\"none\" points=\"-4,4 -4,-112 170.385,-112 170.385,4 -4,4\"/>\r\n",
       "<!-- 0x21c70947af8 -->\r\n",
       "<g id=\"node1\" class=\"node\"><title>0x21c70947af8</title>\r\n",
       "<ellipse fill=\"none\" stroke=\"black\" cx=\"83.1926\" cy=\"-18\" rx=\"83.3857\" ry=\"18\"/>\r\n",
       "<text text-anchor=\"middle\" x=\"83.1926\" y=\"-14.3\" font-family=\"Times New Roman,serif\" font-size=\"14.00\">WHERE_CLAUSE</text>\r\n",
       "</g>\r\n",
       "<!-- 0x21c7091a5c8 -->\r\n",
       "<g id=\"node2\" class=\"node\"><title>0x21c7091a5c8</title>\r\n",
       "<ellipse fill=\"none\" stroke=\"black\" cx=\"83.1926\" cy=\"-90\" rx=\"77.9862\" ry=\"18\"/>\r\n",
       "<text text-anchor=\"middle\" x=\"83.1926\" y=\"-86.3\" font-family=\"Times New Roman,serif\" font-size=\"14.00\">PASSTHROUGH</text>\r\n",
       "</g>\r\n",
       "<!-- 0x21c7091a5c8&#45;&gt;0x21c70947af8 -->\r\n",
       "<g id=\"edge1\" class=\"edge\"><title>0x21c7091a5c8&#45;&gt;0x21c70947af8</title>\r\n",
       "<path fill=\"none\" stroke=\"black\" d=\"M83.1926,-71.6966C83.1926,-63.9827 83.1926,-54.7125 83.1926,-46.1124\"/>\r\n",
       "<polygon fill=\"black\" stroke=\"black\" points=\"86.6927,-46.1043 83.1926,-36.1043 79.6927,-46.1044 86.6927,-46.1043\"/>\r\n",
       "</g>\r\n",
       "</g>\r\n",
       "</svg>\r\n"
      ],
      "text/plain": [
       "<graphviz.dot.Digraph at 0x21c70955278>"
      ]
     },
     "metadata": {},
     "output_type": "display_data"
    }
   ],
   "source": [
    "g.render()"
   ]
  },
  {
   "cell_type": "markdown",
   "metadata": {},
   "source": [
    "Now display the graph verbosely:"
   ]
  },
  {
   "cell_type": "code",
   "execution_count": 15,
   "metadata": {},
   "outputs": [
    {
     "data": {
      "image/svg+xml": [
       "<?xml version=\"1.0\" encoding=\"UTF-8\" standalone=\"no\"?>\r\n",
       "<!DOCTYPE svg PUBLIC \"-//W3C//DTD SVG 1.1//EN\"\r\n",
       " \"http://www.w3.org/Graphics/SVG/1.1/DTD/svg11.dtd\">\r\n",
       "<!-- Generated by graphviz version 2.38.0 (20140413.2041)\r\n",
       " -->\r\n",
       "<!-- Title: %3 Pages: 1 -->\r\n",
       "<svg width=\"347pt\" height=\"173pt\"\r\n",
       " viewBox=\"0.00 0.00 347.41 172.69\" xmlns=\"http://www.w3.org/2000/svg\" xmlns:xlink=\"http://www.w3.org/1999/xlink\">\r\n",
       "<g id=\"graph0\" class=\"graph\" transform=\"scale(1 1) rotate(0) translate(4 168.693)\">\r\n",
       "<title>%3</title>\r\n",
       "<polygon fill=\"white\" stroke=\"none\" points=\"-4,4 -4,-168.693 343.411,-168.693 343.411,4 -4,4\"/>\r\n",
       "<!-- 0x21c70947af8 -->\r\n",
       "<g id=\"node1\" class=\"node\"><title>0x21c70947af8</title>\r\n",
       "<ellipse fill=\"none\" stroke=\"black\" cx=\"169.706\" cy=\"-26.8701\" rx=\"169.912\" ry=\"26.7407\"/>\r\n",
       "<text text-anchor=\"middle\" x=\"169.706\" y=\"-30.6701\" font-family=\"Times New Roman,serif\" font-size=\"14.00\">WHERE_CLAUSE(where=PRICE&gt;10)</text>\r\n",
       "<text text-anchor=\"middle\" x=\"169.706\" y=\"-15.6701\" font-family=\"Times New Roman,serif\" font-size=\"14.00\">node_name=where</text>\r\n",
       "</g>\r\n",
       "<!-- 0x21c7091a5c8 -->\r\n",
       "<g id=\"node2\" class=\"node\"><title>0x21c7091a5c8</title>\r\n",
       "<ellipse fill=\"none\" stroke=\"black\" cx=\"169.706\" cy=\"-127.217\" rx=\"147.156\" ry=\"37.4533\"/>\r\n",
       "<text text-anchor=\"middle\" x=\"169.706\" y=\"-138.517\" font-family=\"Times New Roman,serif\" font-size=\"14.00\">PASSTHROUGH(fields=PRICE)</text>\r\n",
       "<text text-anchor=\"middle\" x=\"169.706\" y=\"-123.517\" font-family=\"Times New Roman,serif\" font-size=\"14.00\">tick_types=[TRD]</text>\r\n",
       "<text text-anchor=\"middle\" x=\"169.706\" y=\"-108.517\" font-family=\"Times New Roman,serif\" font-size=\"14.00\">node_name=pass</text>\r\n",
       "</g>\r\n",
       "<!-- 0x21c7091a5c8&#45;&gt;0x21c70947af8 -->\r\n",
       "<g id=\"edge1\" class=\"edge\"><title>0x21c7091a5c8&#45;&gt;0x21c70947af8</title>\r\n",
       "<path fill=\"none\" stroke=\"black\" d=\"M169.706,-89.5961C169.706,-81.2251 169.706,-72.334 169.706,-63.9844\"/>\r\n",
       "<polygon fill=\"black\" stroke=\"black\" points=\"173.206,-63.7778 169.706,-53.7778 166.206,-63.7779 173.206,-63.7778\"/>\r\n",
       "</g>\r\n",
       "</g>\r\n",
       "</svg>\r\n"
      ],
      "text/plain": [
       "<graphviz.dot.Digraph at 0x21c70955240>"
      ]
     },
     "metadata": {},
     "output_type": "display_data"
    }
   ],
   "source": [
    "g.render(verbose=True)"
   ]
  },
  {
   "cell_type": "markdown",
   "metadata": {},
   "source": [
    "<a><a id=\"pins\"></a>\n",
    "## EventProcessor pins\n",
    "In the above example, the passthrough EP was sinked or sourced to the 'IF' pin of the Where_Clause EP, by default. To attach to the 'Else' pin, the [] operator of the EP object is called, below. In the example below, prices are filtered by `PRICE < 105` since the Passthrough EP is sourcing the 'else' pin.\n"
   ]
  },
  {
   "cell_type": "code",
   "execution_count": 16,
   "metadata": {},
   "outputs": [
    {
     "data": {
      "image/png": "[encoded data removed]",
      "text/plain": [
       "<Figure size 432x288 with 1 Axes>"
      ]
     },
     "metadata": {},
     "output_type": "display_data"
    },
    {
     "data": {
      "text/html": [
       "<div>\n",
       "<style scoped>\n",
       "    .dataframe tbody tr th:only-of-type {\n",
       "        vertical-align: middle;\n",
       "    }\n",
       "\n",
       "    .dataframe tbody tr th {\n",
       "        vertical-align: top;\n",
       "    }\n",
       "\n",
       "    .dataframe thead th {\n",
       "        text-align: right;\n",
       "    }\n",
       "</style>\n",
       "<table border=\"1\" class=\"dataframe\">\n",
       "  <thead>\n",
       "    <tr style=\"text-align: right;\">\n",
       "      <th></th>\n",
       "      <th>Time</th>\n",
       "      <th>PRICE</th>\n",
       "      <th>SIZE</th>\n",
       "      <th>EXCHANGE</th>\n",
       "    </tr>\n",
       "  </thead>\n",
       "  <tbody>\n",
       "    <tr>\n",
       "      <th>0</th>\n",
       "      <td>2005-01-03 09:31:52.011</td>\n",
       "      <td>104.9</td>\n",
       "      <td>40400</td>\n",
       "      <td>N</td>\n",
       "    </tr>\n",
       "    <tr>\n",
       "      <th>1</th>\n",
       "      <td>2005-01-03 09:31:53.008</td>\n",
       "      <td>104.9</td>\n",
       "      <td>1200</td>\n",
       "      <td>T</td>\n",
       "    </tr>\n",
       "    <tr>\n",
       "      <th>2</th>\n",
       "      <td>2005-01-03 09:31:53.508</td>\n",
       "      <td>104.9</td>\n",
       "      <td>1000</td>\n",
       "      <td>T</td>\n",
       "    </tr>\n",
       "    <tr>\n",
       "      <th>3</th>\n",
       "      <td>2005-01-03 09:31:53.511</td>\n",
       "      <td>104.9</td>\n",
       "      <td>100</td>\n",
       "      <td>T</td>\n",
       "    </tr>\n",
       "    <tr>\n",
       "      <th>4</th>\n",
       "      <td>2005-01-03 09:31:53.515</td>\n",
       "      <td>104.9</td>\n",
       "      <td>200</td>\n",
       "      <td>T</td>\n",
       "    </tr>\n",
       "  </tbody>\n",
       "</table>\n",
       "</div>"
      ],
      "text/plain": [
       "                     Time  PRICE   SIZE EXCHANGE\n",
       "0 2005-01-03 09:31:52.011  104.9  40400        N\n",
       "1 2005-01-03 09:31:53.008  104.9   1200        T\n",
       "2 2005-01-03 09:31:53.508  104.9   1000        T\n",
       "3 2005-01-03 09:31:53.511  104.9    100        T\n",
       "4 2005-01-03 09:31:53.515  104.9    200        T"
      ]
     },
     "execution_count": 16,
     "metadata": {},
     "output_type": "execute_result"
    }
   ],
   "source": [
    "wc = otq.Passthrough(fields='PRICE,SIZE,EXCHANGE').tick_type('TRD') >> otq.WhereClause(where='PRICE > 105')\n",
    "query = wc['ELSE'] >> otq.Passthrough()\n",
    "result = otq.run(otq.Graph(query),symbols='FULL_DEMO_L1::GS',start=datetime(2005,1,3,9,30),end=datetime(2005,1,3,16))\n",
    "df = pd.DataFrame(result.output('FULL_DEMO_L1::GS').data)\n",
    "df['PRICE'].plot(title='PRICE vs Time')\n",
    "plt.show()\n",
    "df.head()"
   ]
  },
  {
   "cell_type": "markdown",
   "metadata": {},
   "source": [
    "<a><a id=\"labels\"></a>\n",
    "## Labeling an EventProcessor"
   ]
  },
  {
   "cell_type": "markdown",
   "metadata": {},
   "source": [
    "Labeling an EP is necessary when an EP needs to distinguish between mulitiple sources. For example, several of the parameters to the JOIN_BY_TIME EP require that join's input EPs are labelled. For example LEADING_SOURCES is a parameter that asks which input is preserved unchanged in the JOIN_BY_TIME's output. This is achieved by labeling the input EPs:"
   ]
  },
  {
   "cell_type": "code",
   "execution_count": 17,
   "metadata": {},
   "outputs": [
    {
     "data": {
      "image/svg+xml": [
       "<?xml version=\"1.0\" encoding=\"UTF-8\" standalone=\"no\"?>\r\n",
       "<!DOCTYPE svg PUBLIC \"-//W3C//DTD SVG 1.1//EN\"\r\n",
       " \"http://www.w3.org/Graphics/SVG/1.1/DTD/svg11.dtd\">\r\n",
       "<!-- Generated by graphviz version 2.38.0 (20140413.2041)\r\n",
       " -->\r\n",
       "<!-- Title: %3 Pages: 1 -->\r\n",
       "<svg width=\"338pt\" height=\"188pt\"\r\n",
       " viewBox=\"0.00 0.00 337.99 188.00\" xmlns=\"http://www.w3.org/2000/svg\" xmlns:xlink=\"http://www.w3.org/1999/xlink\">\r\n",
       "<g id=\"graph0\" class=\"graph\" transform=\"scale(1 1) rotate(0) translate(4 184)\">\r\n",
       "<title>%3</title>\r\n",
       "<polygon fill=\"white\" stroke=\"none\" points=\"-4,4 -4,-184 333.986,-184 333.986,4 -4,4\"/>\r\n",
       "<!-- 0x21c7091a7d8 -->\r\n",
       "<g id=\"node1\" class=\"node\"><title>0x21c7091a7d8</title>\r\n",
       "<ellipse fill=\"none\" stroke=\"black\" cx=\"77.9931\" cy=\"-162\" rx=\"77.9862\" ry=\"18\"/>\r\n",
       "<text text-anchor=\"middle\" x=\"77.9931\" y=\"-158.3\" font-family=\"Times New Roman,serif\" font-size=\"14.00\">PASSTHROUGH</text>\r\n",
       "</g>\r\n",
       "<!-- 0x21c701bccf8 -->\r\n",
       "<g id=\"node2\" class=\"node\"><title>0x21c701bccf8</title>\r\n",
       "<ellipse fill=\"none\" stroke=\"black\" cx=\"84.9931\" cy=\"-90\" rx=\"63.0888\" ry=\"18\"/>\r\n",
       "<text text-anchor=\"middle\" x=\"84.9931\" y=\"-86.3\" font-family=\"Times New Roman,serif\" font-size=\"14.00\">NUM_TICKS</text>\r\n",
       "</g>\r\n",
       "<!-- 0x21c7091a7d8&#45;&gt;0x21c701bccf8 -->\r\n",
       "<g id=\"edge1\" class=\"edge\"><title>0x21c7091a7d8&#45;&gt;0x21c701bccf8</title>\r\n",
       "<path fill=\"none\" stroke=\"black\" d=\"M79.7234,-143.697C80.4948,-135.983 81.4218,-126.712 82.2818,-118.112\"/>\r\n",
       "<polygon fill=\"black\" stroke=\"black\" points=\"85.7701,-118.403 83.2826,-108.104 78.8049,-117.706 85.7701,-118.403\"/>\r\n",
       "</g>\r\n",
       "<!-- 0x21c701c99a0 -->\r\n",
       "<g id=\"node3\" class=\"node\"><title>0x21c701c99a0</title>\r\n",
       "<ellipse fill=\"none\" stroke=\"black\" cx=\"163.993\" cy=\"-18\" rx=\"74.187\" ry=\"18\"/>\r\n",
       "<text text-anchor=\"middle\" x=\"163.993\" y=\"-14.3\" font-family=\"Times New Roman,serif\" font-size=\"14.00\">JOIN_BY_TIME</text>\r\n",
       "</g>\r\n",
       "<!-- 0x21c701bccf8&#45;&gt;0x21c701c99a0 -->\r\n",
       "<g id=\"edge2\" class=\"edge\"><title>0x21c701bccf8&#45;&gt;0x21c701c99a0</title>\r\n",
       "<path fill=\"none\" stroke=\"black\" d=\"M103.316,-72.7646C113.537,-63.7076 126.445,-52.2705 137.725,-42.2756\"/>\r\n",
       "<polygon fill=\"black\" stroke=\"black\" points=\"140.058,-44.8849 145.221,-35.6334 135.415,-39.6457 140.058,-44.8849\"/>\r\n",
       "</g>\r\n",
       "<!-- 0x21c701bcc10 -->\r\n",
       "<g id=\"node4\" class=\"node\"><title>0x21c701bcc10</title>\r\n",
       "<ellipse fill=\"none\" stroke=\"black\" cx=\"243.993\" cy=\"-90\" rx=\"63.0888\" ry=\"18\"/>\r\n",
       "<text text-anchor=\"middle\" x=\"243.993\" y=\"-86.3\" font-family=\"Times New Roman,serif\" font-size=\"14.00\">NUM_TICKS</text>\r\n",
       "</g>\r\n",
       "<!-- 0x21c701bcc10&#45;&gt;0x21c701c99a0 -->\r\n",
       "<g id=\"edge4\" class=\"edge\"><title>0x21c701bcc10&#45;&gt;0x21c701c99a0</title>\r\n",
       "<path fill=\"none\" stroke=\"black\" d=\"M225.438,-72.7646C215.087,-63.7076 202.016,-52.2705 190.594,-42.2756\"/>\r\n",
       "<polygon fill=\"black\" stroke=\"black\" points=\"192.833,-39.5845 183.003,-35.6334 188.224,-44.8525 192.833,-39.5845\"/>\r\n",
       "</g>\r\n",
       "<!-- 0x21c7091abf8 -->\r\n",
       "<g id=\"node5\" class=\"node\"><title>0x21c7091abf8</title>\r\n",
       "<ellipse fill=\"none\" stroke=\"black\" cx=\"251.993\" cy=\"-162\" rx=\"77.9862\" ry=\"18\"/>\r\n",
       "<text text-anchor=\"middle\" x=\"251.993\" y=\"-158.3\" font-family=\"Times New Roman,serif\" font-size=\"14.00\">PASSTHROUGH</text>\r\n",
       "</g>\r\n",
       "<!-- 0x21c7091abf8&#45;&gt;0x21c701bcc10 -->\r\n",
       "<g id=\"edge3\" class=\"edge\"><title>0x21c7091abf8&#45;&gt;0x21c701bcc10</title>\r\n",
       "<path fill=\"none\" stroke=\"black\" d=\"M250.016,-143.697C249.134,-135.983 248.075,-126.712 247.092,-118.112\"/>\r\n",
       "<polygon fill=\"black\" stroke=\"black\" points=\"250.561,-117.642 245.948,-108.104 243.606,-118.437 250.561,-117.642\"/>\r\n",
       "</g>\r\n",
       "</g>\r\n",
       "</svg>\r\n"
      ],
      "text/plain": [
       "<graphviz.dot.Digraph at 0x21c7097ae10>"
      ]
     },
     "metadata": {},
     "output_type": "display_data"
    },
    {
     "data": {
      "text/html": [
       "<div>\n",
       "<style scoped>\n",
       "    .dataframe tbody tr th:only-of-type {\n",
       "        vertical-align: middle;\n",
       "    }\n",
       "\n",
       "    .dataframe tbody tr th {\n",
       "        vertical-align: top;\n",
       "    }\n",
       "\n",
       "    .dataframe thead th {\n",
       "        text-align: right;\n",
       "    }\n",
       "</style>\n",
       "<table border=\"1\" class=\"dataframe\">\n",
       "  <thead>\n",
       "    <tr style=\"text-align: right;\">\n",
       "      <th></th>\n",
       "      <th></th>\n",
       "      <th>t.TIMESTAMP</th>\n",
       "      <th>t.PRICE</th>\n",
       "      <th>t.SEQ_NUM</th>\n",
       "      <th>t.DELETED_TIME</th>\n",
       "      <th>t.SIZE</th>\n",
       "      <th>t.CORR</th>\n",
       "      <th>t.COND</th>\n",
       "      <th>t.TICK_STATUS</th>\n",
       "      <th>t.STOP_STOCK</th>\n",
       "      <th>t.SOURCE</th>\n",
       "      <th>...</th>\n",
       "      <th>q.ASK_EXCHANGE</th>\n",
       "      <th>q.BID_EXCHANGE</th>\n",
       "      <th>q.NBBO_IND</th>\n",
       "      <th>q.NASDAQ_BBO_IND</th>\n",
       "      <th>q.SOURCE</th>\n",
       "      <th>q.TICK_STATUS</th>\n",
       "      <th>q.EXCHANGE</th>\n",
       "      <th>q.TICKER</th>\n",
       "      <th>q.OMDSEQ</th>\n",
       "      <th>q.TICK_ID</th>\n",
       "    </tr>\n",
       "    <tr>\n",
       "      <th>Time</th>\n",
       "      <th>t.OMDSEQ</th>\n",
       "      <th></th>\n",
       "      <th></th>\n",
       "      <th></th>\n",
       "      <th></th>\n",
       "      <th></th>\n",
       "      <th></th>\n",
       "      <th></th>\n",
       "      <th></th>\n",
       "      <th></th>\n",
       "      <th></th>\n",
       "      <th></th>\n",
       "      <th></th>\n",
       "      <th></th>\n",
       "      <th></th>\n",
       "      <th></th>\n",
       "      <th></th>\n",
       "      <th></th>\n",
       "      <th></th>\n",
       "      <th></th>\n",
       "      <th></th>\n",
       "      <th></th>\n",
       "    </tr>\n",
       "  </thead>\n",
       "  <tbody>\n",
       "    <tr>\n",
       "      <th>2005-01-03 09:31:52.011</th>\n",
       "      <th>0</th>\n",
       "      <td>2005-01-03 09:31:52.011</td>\n",
       "      <td>104.9</td>\n",
       "      <td>1971504712011575</td>\n",
       "      <td>1969-12-31 19:00:00</td>\n",
       "      <td>40400</td>\n",
       "      <td>0</td>\n",
       "      <td></td>\n",
       "      <td>0</td>\n",
       "      <td>N</td>\n",
       "      <td>C</td>\n",
       "      <td>...</td>\n",
       "      <td>C</td>\n",
       "      <td>C</td>\n",
       "      <td>0</td>\n",
       "      <td>0</td>\n",
       "      <td>C</td>\n",
       "      <td>0</td>\n",
       "      <td>C</td>\n",
       "      <td>G</td>\n",
       "      <td>5</td>\n",
       "      <td>9.0</td>\n",
       "    </tr>\n",
       "    <tr>\n",
       "      <th>2005-01-03 09:31:53.008</th>\n",
       "      <th>0</th>\n",
       "      <td>2005-01-03 09:31:53.008</td>\n",
       "      <td>104.9</td>\n",
       "      <td>1971504713008187</td>\n",
       "      <td>1969-12-31 19:00:00</td>\n",
       "      <td>1200</td>\n",
       "      <td>0</td>\n",
       "      <td></td>\n",
       "      <td>0</td>\n",
       "      <td>N</td>\n",
       "      <td>C</td>\n",
       "      <td>...</td>\n",
       "      <td>T</td>\n",
       "      <td>T</td>\n",
       "      <td>0</td>\n",
       "      <td>0</td>\n",
       "      <td>C</td>\n",
       "      <td>0</td>\n",
       "      <td>T</td>\n",
       "      <td>G</td>\n",
       "      <td>15</td>\n",
       "      <td>25.0</td>\n",
       "    </tr>\n",
       "    <tr>\n",
       "      <th>2005-01-03 09:31:53.508</th>\n",
       "      <th>0</th>\n",
       "      <td>2005-01-03 09:31:53.508</td>\n",
       "      <td>104.9</td>\n",
       "      <td>1971504713508334</td>\n",
       "      <td>1969-12-31 19:00:00</td>\n",
       "      <td>1000</td>\n",
       "      <td>0</td>\n",
       "      <td></td>\n",
       "      <td>0</td>\n",
       "      <td>N</td>\n",
       "      <td>C</td>\n",
       "      <td>...</td>\n",
       "      <td>T</td>\n",
       "      <td>T</td>\n",
       "      <td>0</td>\n",
       "      <td>0</td>\n",
       "      <td>C</td>\n",
       "      <td>0</td>\n",
       "      <td>T</td>\n",
       "      <td>G</td>\n",
       "      <td>15</td>\n",
       "      <td>25.0</td>\n",
       "    </tr>\n",
       "    <tr>\n",
       "      <th>2005-01-03 09:31:53.511</th>\n",
       "      <th>0</th>\n",
       "      <td>2005-01-03 09:31:53.511</td>\n",
       "      <td>104.9</td>\n",
       "      <td>1971504713511894</td>\n",
       "      <td>1969-12-31 19:00:00</td>\n",
       "      <td>100</td>\n",
       "      <td>0</td>\n",
       "      <td></td>\n",
       "      <td>0</td>\n",
       "      <td>N</td>\n",
       "      <td>C</td>\n",
       "      <td>...</td>\n",
       "      <td>T</td>\n",
       "      <td>T</td>\n",
       "      <td>0</td>\n",
       "      <td>0</td>\n",
       "      <td>C</td>\n",
       "      <td>0</td>\n",
       "      <td>T</td>\n",
       "      <td>G</td>\n",
       "      <td>15</td>\n",
       "      <td>25.0</td>\n",
       "    </tr>\n",
       "    <tr>\n",
       "      <th>2005-01-03 09:31:53.515</th>\n",
       "      <th>0</th>\n",
       "      <td>2005-01-03 09:31:53.515</td>\n",
       "      <td>104.9</td>\n",
       "      <td>1971504713515182</td>\n",
       "      <td>1969-12-31 19:00:00</td>\n",
       "      <td>200</td>\n",
       "      <td>0</td>\n",
       "      <td></td>\n",
       "      <td>0</td>\n",
       "      <td>N</td>\n",
       "      <td>C</td>\n",
       "      <td>...</td>\n",
       "      <td>T</td>\n",
       "      <td>T</td>\n",
       "      <td>0</td>\n",
       "      <td>0</td>\n",
       "      <td>C</td>\n",
       "      <td>0</td>\n",
       "      <td>T</td>\n",
       "      <td>G</td>\n",
       "      <td>15</td>\n",
       "      <td>25.0</td>\n",
       "    </tr>\n",
       "  </tbody>\n",
       "</table>\n",
       "<p>5 rows × 33 columns</p>\n",
       "</div>"
      ],
      "text/plain": [
       "                                             t.TIMESTAMP  t.PRICE         t.SEQ_NUM      t.DELETED_TIME  t.SIZE  t.CORR t.COND  t.TICK_STATUS t.STOP_STOCK t.SOURCE    ...     q.ASK_EXCHANGE  \\\n",
       "Time                    t.OMDSEQ                                                                                                                                       ...                      \n",
       "2005-01-03 09:31:52.011 0        2005-01-03 09:31:52.011    104.9  1971504712011575 1969-12-31 19:00:00   40400       0                     0            N        C    ...                  C   \n",
       "2005-01-03 09:31:53.008 0        2005-01-03 09:31:53.008    104.9  1971504713008187 1969-12-31 19:00:00    1200       0                     0            N        C    ...                  T   \n",
       "2005-01-03 09:31:53.508 0        2005-01-03 09:31:53.508    104.9  1971504713508334 1969-12-31 19:00:00    1000       0                     0            N        C    ...                  T   \n",
       "2005-01-03 09:31:53.511 0        2005-01-03 09:31:53.511    104.9  1971504713511894 1969-12-31 19:00:00     100       0                     0            N        C    ...                  T   \n",
       "2005-01-03 09:31:53.515 0        2005-01-03 09:31:53.515    104.9  1971504713515182 1969-12-31 19:00:00     200       0                     0            N        C    ...                  T   \n",
       "\n",
       "                                 q.BID_EXCHANGE  q.NBBO_IND q.NASDAQ_BBO_IND  q.SOURCE  q.TICK_STATUS  q.EXCHANGE q.TICKER  q.OMDSEQ  q.TICK_ID  \n",
       "Time                    t.OMDSEQ                                                                                                                 \n",
       "2005-01-03 09:31:52.011 0                     C           0                0         C              0           C        G         5        9.0  \n",
       "2005-01-03 09:31:53.008 0                     T           0                0         C              0           T        G        15       25.0  \n",
       "2005-01-03 09:31:53.508 0                     T           0                0         C              0           T        G        15       25.0  \n",
       "2005-01-03 09:31:53.511 0                     T           0                0         C              0           T        G        15       25.0  \n",
       "2005-01-03 09:31:53.515 0                     T           0                0         C              0           T        G        15       25.0  \n",
       "\n",
       "[5 rows x 33 columns]"
      ]
     },
     "execution_count": 17,
     "metadata": {},
     "output_type": "execute_result"
    }
   ],
   "source": [
    "trds = otq.Passthrough().tick_type('TRD')\n",
    "qtes = otq.Passthrough().tick_type('QTE')\n",
    "nticks = otq.NumTicks(is_running_aggr=True,output_field_name='TICK_ID')\n",
    "\n",
    "g = otq.Graph(trds >> nticks.node_name('t') >> otq.JoinByTime(leading_sources='t') << nticks.copy().node_name('q') << qtes)\n",
    "g.render()\n",
    "data = otq.run(g,symbols='FULL_DEMO_L1::GS',start=datetime(2005,1,3,9,30),end=datetime(2005,1,3,16))\n",
    "df=pd.DataFrame(data.output('FULL_DEMO_L1::GS').data)\n",
    "df.set_index(['Time','t.OMDSEQ'],inplace=True)\n",
    "df.head()"
   ]
  },
  {
   "cell_type": "markdown",
   "metadata": {},
   "source": [
    "<a><a id=\"utilities\"></a>\n",
    "## Utilities for common Graph patterns\n",
    "\n",
    "Several patterns appear very frequently when building Graphs. Below we describe several utilities for builing single chain graphs, joining graphs, and merging graphs."
   ]
  },
  {
   "cell_type": "markdown",
   "metadata": {},
   "source": [
    "<a><a id=\"chainlet\"></a>\n",
    "## Chainlet\n",
    "Most (simple) graphs consist of EPs connected in a singly-linked chain. We refer to such a graph as a Chainlet. A Chainlet is an object that acts as a collection for EPs that constitute a singly linked Chain. Instead of continually sinking such EPs together, a Chainlet object can be created to make this structure more visible. For example, the following singly-linked chain can be sinked together like:"
   ]
  },
  {
   "cell_type": "code",
   "execution_count": 18,
   "metadata": {},
   "outputs": [
    {
     "data": {
      "text/html": [
       "<div>\n",
       "<style scoped>\n",
       "    .dataframe tbody tr th:only-of-type {\n",
       "        vertical-align: middle;\n",
       "    }\n",
       "\n",
       "    .dataframe tbody tr th {\n",
       "        vertical-align: top;\n",
       "    }\n",
       "\n",
       "    .dataframe thead th {\n",
       "        text-align: right;\n",
       "    }\n",
       "</style>\n",
       "<table border=\"1\" class=\"dataframe\">\n",
       "  <thead>\n",
       "    <tr style=\"text-align: right;\">\n",
       "      <th></th>\n",
       "      <th>Time</th>\n",
       "      <th>PRICE</th>\n",
       "    </tr>\n",
       "  </thead>\n",
       "  <tbody>\n",
       "    <tr>\n",
       "      <th>0</th>\n",
       "      <td>2005-01-03 09:35:52.659</td>\n",
       "      <td>105.05</td>\n",
       "    </tr>\n",
       "    <tr>\n",
       "      <th>1</th>\n",
       "      <td>2005-01-03 09:35:56.661</td>\n",
       "      <td>105.05</td>\n",
       "    </tr>\n",
       "    <tr>\n",
       "      <th>2</th>\n",
       "      <td>2005-01-03 09:35:58.660</td>\n",
       "      <td>105.08</td>\n",
       "    </tr>\n",
       "    <tr>\n",
       "      <th>3</th>\n",
       "      <td>2005-01-03 09:36:00.661</td>\n",
       "      <td>105.08</td>\n",
       "    </tr>\n",
       "    <tr>\n",
       "      <th>4</th>\n",
       "      <td>2005-01-03 09:36:01.161</td>\n",
       "      <td>105.07</td>\n",
       "    </tr>\n",
       "  </tbody>\n",
       "</table>\n",
       "</div>"
      ],
      "text/plain": [
       "                     Time   PRICE\n",
       "0 2005-01-03 09:35:52.659  105.05\n",
       "1 2005-01-03 09:35:56.661  105.05\n",
       "2 2005-01-03 09:35:58.660  105.08\n",
       "3 2005-01-03 09:36:00.661  105.08\n",
       "4 2005-01-03 09:36:01.161  105.07"
      ]
     },
     "execution_count": 18,
     "metadata": {},
     "output_type": "execute_result"
    }
   ],
   "source": [
    "g = otq.Graph(otq.Passthrough().tick_type('TRD') >> otq.WhereClause(where='PRICE>105') >> otq.Table(fields='PRICE'))\n",
    "result=otq.run(g, symbols='FULL_DEMO_L1::GS',start=datetime(2005,1,3,9,30),end=datetime(2005,1,3,16))\n",
    "pd.DataFrame(result.output('FULL_DEMO_L1::GS').data).head()"
   ]
  },
  {
   "cell_type": "markdown",
   "metadata": {},
   "source": [
    "The above example is a linear chain where all EPs are sinked together. In fact, most of the examples in this tutorial are of this type. Since this is a recurring theme a convenience function is available to construct it. **`otq.Chainlet`** is an object that accepts a list of EPs and builds a singly-linked graph (chainlet) and returns the the last ep to allow for further chaining:"
   ]
  },
  {
   "cell_type": "code",
   "execution_count": 19,
   "metadata": {},
   "outputs": [
    {
     "data": {
      "text/html": [
       "<div>\n",
       "<style scoped>\n",
       "    .dataframe tbody tr th:only-of-type {\n",
       "        vertical-align: middle;\n",
       "    }\n",
       "\n",
       "    .dataframe tbody tr th {\n",
       "        vertical-align: top;\n",
       "    }\n",
       "\n",
       "    .dataframe thead th {\n",
       "        text-align: right;\n",
       "    }\n",
       "</style>\n",
       "<table border=\"1\" class=\"dataframe\">\n",
       "  <thead>\n",
       "    <tr style=\"text-align: right;\">\n",
       "      <th></th>\n",
       "      <th>Time</th>\n",
       "      <th>PRICE</th>\n",
       "    </tr>\n",
       "  </thead>\n",
       "  <tbody>\n",
       "    <tr>\n",
       "      <th>0</th>\n",
       "      <td>2005-01-03 09:35:52.659</td>\n",
       "      <td>105.05</td>\n",
       "    </tr>\n",
       "    <tr>\n",
       "      <th>1</th>\n",
       "      <td>2005-01-03 09:35:56.661</td>\n",
       "      <td>105.05</td>\n",
       "    </tr>\n",
       "    <tr>\n",
       "      <th>2</th>\n",
       "      <td>2005-01-03 09:35:58.660</td>\n",
       "      <td>105.08</td>\n",
       "    </tr>\n",
       "    <tr>\n",
       "      <th>3</th>\n",
       "      <td>2005-01-03 09:36:00.661</td>\n",
       "      <td>105.08</td>\n",
       "    </tr>\n",
       "    <tr>\n",
       "      <th>4</th>\n",
       "      <td>2005-01-03 09:36:01.161</td>\n",
       "      <td>105.07</td>\n",
       "    </tr>\n",
       "  </tbody>\n",
       "</table>\n",
       "</div>"
      ],
      "text/plain": [
       "                     Time   PRICE\n",
       "0 2005-01-03 09:35:52.659  105.05\n",
       "1 2005-01-03 09:35:56.661  105.05\n",
       "2 2005-01-03 09:35:58.660  105.08\n",
       "3 2005-01-03 09:36:00.661  105.08\n",
       "4 2005-01-03 09:36:01.161  105.07"
      ]
     },
     "execution_count": 19,
     "metadata": {},
     "output_type": "execute_result"
    }
   ],
   "source": [
    "chain = otq.Chainlet(otq.Passthrough().tick_type('TRD'),otq.WhereClause(where='PRICE>105'),otq.Table(fields='PRICE'))\n",
    "result=otq.run(otq.Graph(chain), symbols='FULL_DEMO_L1::GS',start=datetime(2005,1,3,9,30),end=datetime(2005,1,3,16))\n",
    "pd.DataFrame(result.output('FULL_DEMO_L1::GS').data).head()"
   ]
  },
  {
   "cell_type": "markdown",
   "metadata": {},
   "source": [
    "Chainlets also allow sinking of additional EPs and act like a 'macro' EP. For example, the above Chainlet can sink another EP like:"
   ]
  },
  {
   "cell_type": "code",
   "execution_count": 20,
   "metadata": {},
   "outputs": [
    {
     "data": {
      "text/html": [
       "<div>\n",
       "<style scoped>\n",
       "    .dataframe tbody tr th:only-of-type {\n",
       "        vertical-align: middle;\n",
       "    }\n",
       "\n",
       "    .dataframe tbody tr th {\n",
       "        vertical-align: top;\n",
       "    }\n",
       "\n",
       "    .dataframe thead th {\n",
       "        text-align: right;\n",
       "    }\n",
       "</style>\n",
       "<table border=\"1\" class=\"dataframe\">\n",
       "  <thead>\n",
       "    <tr style=\"text-align: right;\">\n",
       "      <th></th>\n",
       "      <th>Time</th>\n",
       "      <th>PRICE</th>\n",
       "      <th>DUMMY</th>\n",
       "    </tr>\n",
       "  </thead>\n",
       "  <tbody>\n",
       "    <tr>\n",
       "      <th>0</th>\n",
       "      <td>2005-01-03 09:35:52.659</td>\n",
       "      <td>105.05</td>\n",
       "      <td>Dummy</td>\n",
       "    </tr>\n",
       "    <tr>\n",
       "      <th>1</th>\n",
       "      <td>2005-01-03 09:35:56.661</td>\n",
       "      <td>105.05</td>\n",
       "      <td>Dummy</td>\n",
       "    </tr>\n",
       "    <tr>\n",
       "      <th>2</th>\n",
       "      <td>2005-01-03 09:35:58.660</td>\n",
       "      <td>105.08</td>\n",
       "      <td>Dummy</td>\n",
       "    </tr>\n",
       "    <tr>\n",
       "      <th>3</th>\n",
       "      <td>2005-01-03 09:36:00.661</td>\n",
       "      <td>105.08</td>\n",
       "      <td>Dummy</td>\n",
       "    </tr>\n",
       "    <tr>\n",
       "      <th>4</th>\n",
       "      <td>2005-01-03 09:36:01.161</td>\n",
       "      <td>105.07</td>\n",
       "      <td>Dummy</td>\n",
       "    </tr>\n",
       "  </tbody>\n",
       "</table>\n",
       "</div>"
      ],
      "text/plain": [
       "                     Time   PRICE  DUMMY\n",
       "0 2005-01-03 09:35:52.659  105.05  Dummy\n",
       "1 2005-01-03 09:35:56.661  105.05  Dummy\n",
       "2 2005-01-03 09:35:58.660  105.08  Dummy\n",
       "3 2005-01-03 09:36:00.661  105.08  Dummy\n",
       "4 2005-01-03 09:36:01.161  105.07  Dummy"
      ]
     },
     "execution_count": 20,
     "metadata": {},
     "output_type": "execute_result"
    }
   ],
   "source": [
    "chain += otq.AddField(field='DUMMY',value='\"Dummy\"')  # acts like chain = chain >> otq.AddField(...)\n",
    "result=otq.run(otq.Graph(chain), symbols='FULL_DEMO_L1::GS',start=datetime(2005,1,3,9,30),end=datetime(2005,1,3,16))\n",
    "pd.DataFrame(result.output('FULL_DEMO_L1::GS').data).head()"
   ]
  },
  {
   "cell_type": "markdown",
   "metadata": {},
   "source": [
    "<a><a id=\"merge\"></a>\n",
    "## Merge\n",
    "Same as Join, but instead of JoinByTime Merge EP is used"
   ]
  },
  {
   "cell_type": "markdown",
   "metadata": {},
   "source": [
    "Merging multiple time series data into one stream is also a common operation. The utility function 'merge' allows for multiple Chainlets to be merged together via a function call, similar to the 'jon' function. For example:"
   ]
  },
  {
   "cell_type": "code",
   "execution_count": 21,
   "metadata": {},
   "outputs": [
    {
     "data": {
      "image/svg+xml": [
       "<?xml version=\"1.0\" encoding=\"UTF-8\" standalone=\"no\"?>\r\n",
       "<!DOCTYPE svg PUBLIC \"-//W3C//DTD SVG 1.1//EN\"\r\n",
       " \"http://www.w3.org/Graphics/SVG/1.1/DTD/svg11.dtd\">\r\n",
       "<!-- Generated by graphviz version 2.38.0 (20140413.2041)\r\n",
       " -->\r\n",
       "<!-- Title: %3 Pages: 1 -->\r\n",
       "<svg width=\"358pt\" height=\"204pt\"\r\n",
       " viewBox=\"0.00 0.00 358.39 204.00\" xmlns=\"http://www.w3.org/2000/svg\" xmlns:xlink=\"http://www.w3.org/1999/xlink\">\r\n",
       "<g id=\"graph0\" class=\"graph\" transform=\"scale(1 1) rotate(0) translate(4 200)\">\r\n",
       "<title>%3</title>\r\n",
       "<polygon fill=\"white\" stroke=\"none\" points=\"-4,4 -4,-200 354.385,-200 354.385,4 -4,4\"/>\r\n",
       "<!-- 0x21c702abb90 -->\r\n",
       "<g id=\"node1\" class=\"node\"><title>0x21c702abb90</title>\r\n",
       "<ellipse fill=\"none\" stroke=\"black\" cx=\"193.193\" cy=\"-18\" rx=\"42.4939\" ry=\"18\"/>\r\n",
       "<text text-anchor=\"middle\" x=\"193.193\" y=\"-14.3\" font-family=\"Times New Roman,serif\" font-size=\"14.00\">MERGE</text>\r\n",
       "</g>\r\n",
       "<!-- 0x21c70a5c318 -->\r\n",
       "<g id=\"node2\" class=\"node\"><title>0x21c70a5c318</title>\r\n",
       "<ellipse fill=\"none\" stroke=\"black\" cx=\"83.1926\" cy=\"-105\" rx=\"83.3857\" ry=\"18\"/>\r\n",
       "<text text-anchor=\"middle\" x=\"83.1926\" y=\"-101.3\" font-family=\"Times New Roman,serif\" font-size=\"14.00\">WHERE_CLAUSE</text>\r\n",
       "</g>\r\n",
       "<!-- 0x21c70a5c318&#45;&gt;0x21c702abb90 -->\r\n",
       "<g id=\"edge2\" class=\"edge\"><title>0x21c70a5c318&#45;&gt;0x21c702abb90</title>\r\n",
       "<path fill=\"none\" stroke=\"black\" d=\"M104.663,-87.4094C122.091,-73.942 146.783,-54.8617 165.664,-40.2721\"/>\r\n",
       "<polygon fill=\"black\" stroke=\"black\" points=\"167.849,-43.0068 173.622,-34.1228 163.569,-37.4678 167.849,-43.0068\"/>\r\n",
       "<text text-anchor=\"middle\" x=\"151.693\" y=\"-57.8\" font-family=\"Times New Roman,serif\" font-size=\"14.00\">IF</text>\r\n",
       "</g>\r\n",
       "<!-- 0x21c7091aeb8 -->\r\n",
       "<g id=\"node3\" class=\"node\"><title>0x21c7091aeb8</title>\r\n",
       "<ellipse fill=\"none\" stroke=\"black\" cx=\"83.1926\" cy=\"-178\" rx=\"77.9862\" ry=\"18\"/>\r\n",
       "<text text-anchor=\"middle\" x=\"83.1926\" y=\"-174.3\" font-family=\"Times New Roman,serif\" font-size=\"14.00\">PASSTHROUGH</text>\r\n",
       "</g>\r\n",
       "<!-- 0x21c7091aeb8&#45;&gt;0x21c70a5c318 -->\r\n",
       "<g id=\"edge1\" class=\"edge\"><title>0x21c7091aeb8&#45;&gt;0x21c70a5c318</title>\r\n",
       "<path fill=\"none\" stroke=\"black\" d=\"M83.1926,-159.813C83.1926,-151.789 83.1926,-142.047 83.1926,-133.069\"/>\r\n",
       "<polygon fill=\"black\" stroke=\"black\" points=\"86.6927,-133.029 83.1926,-123.029 79.6927,-133.029 86.6927,-133.029\"/>\r\n",
       "</g>\r\n",
       "<!-- 0x21c70947d38 -->\r\n",
       "<g id=\"node4\" class=\"node\"><title>0x21c70947d38</title>\r\n",
       "<ellipse fill=\"none\" stroke=\"black\" cx=\"267.193\" cy=\"-105\" rx=\"83.3857\" ry=\"18\"/>\r\n",
       "<text text-anchor=\"middle\" x=\"267.193\" y=\"-101.3\" font-family=\"Times New Roman,serif\" font-size=\"14.00\">WHERE_CLAUSE</text>\r\n",
       "</g>\r\n",
       "<!-- 0x21c70947d38&#45;&gt;0x21c702abb90 -->\r\n",
       "<g id=\"edge4\" class=\"edge\"><title>0x21c70947d38&#45;&gt;0x21c702abb90</title>\r\n",
       "<path fill=\"none\" stroke=\"black\" d=\"M252.573,-87.2067C241.587,-74.5881 226.385,-57.1265 214.113,-43.0303\"/>\r\n",
       "<polygon fill=\"black\" stroke=\"black\" points=\"216.486,-40.4257 207.28,-35.1817 211.207,-45.0221 216.486,-40.4257\"/>\r\n",
       "<text text-anchor=\"middle\" x=\"252.193\" y=\"-57.8\" font-family=\"Times New Roman,serif\" font-size=\"14.00\">ELSE</text>\r\n",
       "</g>\r\n",
       "<!-- 0x21c7091af68 -->\r\n",
       "<g id=\"node5\" class=\"node\"><title>0x21c7091af68</title>\r\n",
       "<ellipse fill=\"none\" stroke=\"black\" cx=\"267.193\" cy=\"-178\" rx=\"77.9862\" ry=\"18\"/>\r\n",
       "<text text-anchor=\"middle\" x=\"267.193\" y=\"-174.3\" font-family=\"Times New Roman,serif\" font-size=\"14.00\">PASSTHROUGH</text>\r\n",
       "</g>\r\n",
       "<!-- 0x21c7091af68&#45;&gt;0x21c70947d38 -->\r\n",
       "<g id=\"edge3\" class=\"edge\"><title>0x21c7091af68&#45;&gt;0x21c70947d38</title>\r\n",
       "<path fill=\"none\" stroke=\"black\" d=\"M267.193,-159.813C267.193,-151.789 267.193,-142.047 267.193,-133.069\"/>\r\n",
       "<polygon fill=\"black\" stroke=\"black\" points=\"270.693,-133.029 267.193,-123.029 263.693,-133.029 270.693,-133.029\"/>\r\n",
       "</g>\r\n",
       "</g>\r\n",
       "</svg>\r\n"
      ],
      "text/plain": [
       "<graphviz.dot.Digraph at 0x21c70955da0>"
      ]
     },
     "metadata": {},
     "output_type": "display_data"
    },
    {
     "data": {
      "text/html": [
       "<div>\n",
       "<style scoped>\n",
       "    .dataframe tbody tr th:only-of-type {\n",
       "        vertical-align: middle;\n",
       "    }\n",
       "\n",
       "    .dataframe tbody tr th {\n",
       "        vertical-align: top;\n",
       "    }\n",
       "\n",
       "    .dataframe thead th {\n",
       "        text-align: right;\n",
       "    }\n",
       "</style>\n",
       "<table border=\"1\" class=\"dataframe\">\n",
       "  <thead>\n",
       "    <tr style=\"text-align: right;\">\n",
       "      <th></th>\n",
       "      <th>Time</th>\n",
       "      <th>PRICE</th>\n",
       "      <th>SYMBOL_NAME</th>\n",
       "      <th>TICK_TYPE</th>\n",
       "      <th>SIZE</th>\n",
       "    </tr>\n",
       "  </thead>\n",
       "  <tbody>\n",
       "    <tr>\n",
       "      <th>0</th>\n",
       "      <td>2005-01-03 09:31:52.011</td>\n",
       "      <td>104.9</td>\n",
       "      <td>FULL_DEMO_L1::GS</td>\n",
       "      <td>TRD</td>\n",
       "      <td>0</td>\n",
       "    </tr>\n",
       "    <tr>\n",
       "      <th>1</th>\n",
       "      <td>2005-01-03 09:31:52.011</td>\n",
       "      <td>0.0</td>\n",
       "      <td>FULL_DEMO_L1::GS</td>\n",
       "      <td>TRD</td>\n",
       "      <td>40400</td>\n",
       "    </tr>\n",
       "    <tr>\n",
       "      <th>2</th>\n",
       "      <td>2005-01-03 09:31:53.008</td>\n",
       "      <td>104.9</td>\n",
       "      <td>FULL_DEMO_L1::GS</td>\n",
       "      <td>TRD</td>\n",
       "      <td>0</td>\n",
       "    </tr>\n",
       "    <tr>\n",
       "      <th>3</th>\n",
       "      <td>2005-01-03 09:31:53.008</td>\n",
       "      <td>0.0</td>\n",
       "      <td>FULL_DEMO_L1::GS</td>\n",
       "      <td>TRD</td>\n",
       "      <td>1200</td>\n",
       "    </tr>\n",
       "    <tr>\n",
       "      <th>4</th>\n",
       "      <td>2005-01-03 09:31:53.508</td>\n",
       "      <td>104.9</td>\n",
       "      <td>FULL_DEMO_L1::GS</td>\n",
       "      <td>TRD</td>\n",
       "      <td>0</td>\n",
       "    </tr>\n",
       "  </tbody>\n",
       "</table>\n",
       "</div>"
      ],
      "text/plain": [
       "                     Time  PRICE       SYMBOL_NAME TICK_TYPE   SIZE\n",
       "0 2005-01-03 09:31:52.011  104.9  FULL_DEMO_L1::GS       TRD      0\n",
       "1 2005-01-03 09:31:52.011    0.0  FULL_DEMO_L1::GS       TRD  40400\n",
       "2 2005-01-03 09:31:53.008  104.9  FULL_DEMO_L1::GS       TRD      0\n",
       "3 2005-01-03 09:31:53.008    0.0  FULL_DEMO_L1::GS       TRD   1200\n",
       "4 2005-01-03 09:31:53.508  104.9  FULL_DEMO_L1::GS       TRD      0"
      ]
     },
     "execution_count": 21,
     "metadata": {},
     "output_type": "execute_result"
    }
   ],
   "source": [
    "branch1 = otq.Chainlet(otq.Passthrough(fields=\"PRICE\"),otq.WhereClause(where=\"PRICE>10\").tick_type(\"TRD\"))\n",
    "branch2 = otq.Chainlet(otq.Passthrough(fields=\"SIZE\"),otq.WhereClause(where=\"SIZE<10\").tick_type(\"TRD\"))\n",
    "\n",
    "mergeEp = otq.merge([branch1[\"IF\"], branch2[\"ELSE\"]])\n",
    "\n",
    "g = otq.Graph(mergeEp).start_time(datetime(2005,1,3,9,30)).end_time(datetime(2005,1,3,16))\n",
    "g.render()\n",
    "result=otq.run(g, symbols='FULL_DEMO_L1::GS')\n",
    "pd.DataFrame(result.output('FULL_DEMO_L1::GS').data).head()"
   ]
  },
  {
   "cell_type": "markdown",
   "metadata": {},
   "source": [
    "<a><a id=\"attach\"></a>\n",
    "## Attach\n",
    "This is general version of Merge and Join, where the joining EP is specified by the user.\n",
    "The same join by time operation can be implemented as:"
   ]
  },
  {
   "cell_type": "code",
   "execution_count": 22,
   "metadata": {},
   "outputs": [],
   "source": [
    "c1, c2, c3 = otq.Passthrough(), otq.Chainlet(otq.Passthrough()), otq.Passthrough() #the component to join\n",
    "join_by_time = otq.attach([c1, c2, c3], otq.JoinByTime())"
   ]
  },
  {
   "cell_type": "markdown",
   "metadata": {},
   "source": [
    "<a><a id=\"bind\"></a>\n",
    "## Binding symbols to an EventProcessor\n",
    "\n",
    "Symbols can be directly bound to an EP via the **`symbol`** method on the EP instead of passing it as an unbound symbol. For example, to compute the top N highest symbols by volume (see the notebook **`Top N Players by Volume`** for a detailed, step-by-step example):"
   ]
  },
  {
   "cell_type": "code",
   "execution_count": 23,
   "metadata": {},
   "outputs": [
    {
     "data": {
      "image/svg+xml": [
       "<?xml version=\"1.0\" encoding=\"UTF-8\" standalone=\"no\"?>\r\n",
       "<!DOCTYPE svg PUBLIC \"-//W3C//DTD SVG 1.1//EN\"\r\n",
       " \"http://www.w3.org/Graphics/SVG/1.1/DTD/svg11.dtd\">\r\n",
       "<!-- Generated by graphviz version 2.38.0 (20140413.2041)\r\n",
       " -->\r\n",
       "<!-- Title: %3 Pages: 1 -->\r\n",
       "<svg width=\"164pt\" height=\"404pt\"\r\n",
       " viewBox=\"0.00 0.00 163.99 404.00\" xmlns=\"http://www.w3.org/2000/svg\" xmlns:xlink=\"http://www.w3.org/1999/xlink\">\r\n",
       "<g id=\"graph0\" class=\"graph\" transform=\"scale(1 1) rotate(0) translate(4 400)\">\r\n",
       "<title>%3</title>\r\n",
       "<polygon fill=\"white\" stroke=\"none\" points=\"-4,4 -4,-400 159.986,-400 159.986,4 -4,4\"/>\r\n",
       "<!-- 0x21c70947c18 -->\r\n",
       "<g id=\"node1\" class=\"node\"><title>0x21c70947c18</title>\r\n",
       "<ellipse fill=\"none\" stroke=\"black\" cx=\"77.9931\" cy=\"-18\" rx=\"39.7935\" ry=\"18\"/>\r\n",
       "<text text-anchor=\"middle\" x=\"77.9931\" y=\"-14.3\" font-family=\"Times New Roman,serif\" font-size=\"14.00\">TABLE</text>\r\n",
       "</g>\r\n",
       "<!-- 0x21c66f74de0 -->\r\n",
       "<g id=\"node2\" class=\"node\"><title>0x21c66f74de0</title>\r\n",
       "<ellipse fill=\"none\" stroke=\"black\" cx=\"77.9931\" cy=\"-90\" rx=\"59.5901\" ry=\"18\"/>\r\n",
       "<text text-anchor=\"middle\" x=\"77.9931\" y=\"-86.3\" font-family=\"Times New Roman,serif\" font-size=\"14.00\">HIGH_TICK</text>\r\n",
       "</g>\r\n",
       "<!-- 0x21c66f74de0&#45;&gt;0x21c70947c18 -->\r\n",
       "<g id=\"edge5\" class=\"edge\"><title>0x21c66f74de0&#45;&gt;0x21c70947c18</title>\r\n",
       "<path fill=\"none\" stroke=\"black\" d=\"M77.9931,-71.6966C77.9931,-63.9827 77.9931,-54.7125 77.9931,-46.1124\"/>\r\n",
       "<polygon fill=\"black\" stroke=\"black\" points=\"81.4932,-46.1043 77.9931,-36.1043 74.4932,-46.1044 81.4932,-46.1043\"/>\r\n",
       "</g>\r\n",
       "<!-- 0x21c702aba60 -->\r\n",
       "<g id=\"node3\" class=\"node\"><title>0x21c702aba60</title>\r\n",
       "<ellipse fill=\"none\" stroke=\"black\" cx=\"77.9931\" cy=\"-162\" rx=\"42.4939\" ry=\"18\"/>\r\n",
       "<text text-anchor=\"middle\" x=\"77.9931\" y=\"-158.3\" font-family=\"Times New Roman,serif\" font-size=\"14.00\">MERGE</text>\r\n",
       "</g>\r\n",
       "<!-- 0x21c702aba60&#45;&gt;0x21c66f74de0 -->\r\n",
       "<g id=\"edge4\" class=\"edge\"><title>0x21c702aba60&#45;&gt;0x21c66f74de0</title>\r\n",
       "<path fill=\"none\" stroke=\"black\" d=\"M77.9931,-143.697C77.9931,-135.983 77.9931,-126.712 77.9931,-118.112\"/>\r\n",
       "<polygon fill=\"black\" stroke=\"black\" points=\"81.4932,-118.104 77.9931,-108.104 74.4932,-118.104 81.4932,-118.104\"/>\r\n",
       "</g>\r\n",
       "<!-- 0x21c6f7710d0 -->\r\n",
       "<g id=\"node4\" class=\"node\"><title>0x21c6f7710d0</title>\r\n",
       "<ellipse fill=\"none\" stroke=\"black\" cx=\"77.9931\" cy=\"-234\" rx=\"51.9908\" ry=\"18\"/>\r\n",
       "<text text-anchor=\"middle\" x=\"77.9931\" y=\"-230.3\" font-family=\"Times New Roman,serif\" font-size=\"14.00\">PRESORT</text>\r\n",
       "</g>\r\n",
       "<!-- 0x21c6f7710d0&#45;&gt;0x21c702aba60 -->\r\n",
       "<g id=\"edge3\" class=\"edge\"><title>0x21c6f7710d0&#45;&gt;0x21c702aba60</title>\r\n",
       "<path fill=\"none\" stroke=\"black\" d=\"M77.9931,-215.697C77.9931,-207.983 77.9931,-198.712 77.9931,-190.112\"/>\r\n",
       "<polygon fill=\"black\" stroke=\"black\" points=\"81.4932,-190.104 77.9931,-180.104 74.4932,-190.104 81.4932,-190.104\"/>\r\n",
       "</g>\r\n",
       "<!-- 0x21c701ee318 -->\r\n",
       "<g id=\"node5\" class=\"node\"><title>0x21c701ee318</title>\r\n",
       "<ellipse fill=\"none\" stroke=\"black\" cx=\"77.9931\" cy=\"-306\" rx=\"30.5947\" ry=\"18\"/>\r\n",
       "<text text-anchor=\"middle\" x=\"77.9931\" y=\"-302.3\" font-family=\"Times New Roman,serif\" font-size=\"14.00\">SUM</text>\r\n",
       "</g>\r\n",
       "<!-- 0x21c701ee318&#45;&gt;0x21c6f7710d0 -->\r\n",
       "<g id=\"edge2\" class=\"edge\"><title>0x21c701ee318&#45;&gt;0x21c6f7710d0</title>\r\n",
       "<path fill=\"none\" stroke=\"black\" d=\"M77.9931,-287.697C77.9931,-279.983 77.9931,-270.712 77.9931,-262.112\"/>\r\n",
       "<polygon fill=\"black\" stroke=\"black\" points=\"81.4932,-262.104 77.9931,-252.104 74.4932,-262.104 81.4932,-262.104\"/>\r\n",
       "</g>\r\n",
       "<!-- 0x21c73d3d0f8 -->\r\n",
       "<g id=\"node6\" class=\"node\"><title>0x21c73d3d0f8</title>\r\n",
       "<ellipse fill=\"none\" stroke=\"black\" cx=\"77.9931\" cy=\"-378\" rx=\"77.9862\" ry=\"18\"/>\r\n",
       "<text text-anchor=\"middle\" x=\"77.9931\" y=\"-374.3\" font-family=\"Times New Roman,serif\" font-size=\"14.00\">PASSTHROUGH</text>\r\n",
       "</g>\r\n",
       "<!-- 0x21c73d3d0f8&#45;&gt;0x21c701ee318 -->\r\n",
       "<g id=\"edge1\" class=\"edge\"><title>0x21c73d3d0f8&#45;&gt;0x21c701ee318</title>\r\n",
       "<path fill=\"none\" stroke=\"black\" d=\"M77.9931,-359.697C77.9931,-351.983 77.9931,-342.712 77.9931,-334.112\"/>\r\n",
       "<polygon fill=\"black\" stroke=\"black\" points=\"81.4932,-334.104 77.9931,-324.104 74.4932,-334.104 81.4932,-334.104\"/>\r\n",
       "</g>\r\n",
       "</g>\r\n",
       "</svg>\r\n"
      ],
      "text/plain": [
       "<graphviz.dot.Digraph at 0x21c70955978>"
      ]
     },
     "metadata": {},
     "output_type": "display_data"
    },
    {
     "data": {
      "text/plain": [
       "SymbolNumpyResultMap({'': {'TABLE': ({'Time': array(['2006-06-01T16:00:00.000000', '2006-06-01T16:00:00.000000',\n",
       "       '2006-06-01T16:00:00.000000', '2006-06-01T16:00:00.000000',\n",
       "       '2006-06-01T16:00:00.000000'], dtype='datetime64[us]'), 'VOLUME': array([72284527., 51306585., 12754200., 10807700.,  6934500.]), 'SYMBOL_NAME': array(['FULL_DEMO_L1::MSFT', 'FULL_DEMO_L1::CSCO', 'FULL_DEMO_L1::C',\n",
       "       'FULL_DEMO_L1::VZ', 'FULL_DEMO_L1::AA'], dtype='<U40')}, [])}})"
      ]
     },
     "execution_count": 23,
     "metadata": {},
     "output_type": "execute_result"
    }
   ],
   "source": [
    "num_of_top_ticks = 5\n",
    "db='FULL_DEMO_L1'\n",
    "symbols='A,AA,AAA,C,CSCO,MSFT,IBM,GS,MS,VZ'\n",
    "\n",
    "# create graph with EPs\n",
    "chain = otq.Chainlet(otq.Passthrough(fields='SIZE').tick_type('TRD'),\n",
    "                     otq.Sum(output_field_name='VOLUME',input_field_name='SIZE'),\n",
    "                     otq.Presort().symbols(['{}::{}'.format(db,x) for x in symbols.split(',')]),\n",
    "                     otq.Merge(),\n",
    "                     otq.HighTick(num_ticks=num_of_top_ticks,input_field_name='VOLUME'),\n",
    "                     otq.Table(fields='VOLUME,SYMBOL_NAME')\n",
    "                    )\n",
    "graph=otq.Graph(chain)\n",
    "graph.render()\n",
    "\n",
    "#process the graph\n",
    "data = otq.run(graph,symbols=None,start=datetime(2006,6,1,9,30), end=datetime(2006,6,1,16))\n",
    "data"
   ]
  },
  {
   "cell_type": "markdown",
   "metadata": {},
   "source": [
    "<a><a id=\"staged\"></a>\n",
    "# Multi-stage queries\n",
    "The results of previously executed queries (sub-queries) can be used as input to the next query; any number of sub-queries can be used as such. Each sub-query produces the list of symbols to use in the next (sub-) query. For example, it is possible to create a query that will return the number of ticks for every option for each stock that is a part of the specified index. For such a query, an input symbol would be the name of the index, the first sub-query would return the names of all stocks for this symbol, the second sub-query would return the names of all options for each stock name returned by the first sub-query, and the final sub-query would return the number of ticks for every option name returned by the second sub-query. In OneTick, such sub-queries are called stages and the complete query is called a multi-stage query.\n",
    "\n",
    "Stage 1 queries are queries that generate symbol lists. This can be as simple as reading a **.csv** file or as complex as looking at DBs to calculate symbols lists. Stage 2 queries are queries that analyze the actual data per symbol.\n",
    "\n",
    "Each stage of the multi-stage query, except the very last, must return a field called SYMBOL_NAME. The values in this field would be symbol names to use in the next stage."
   ]
  },
  {
   "cell_type": "markdown",
   "metadata": {},
   "source": [
    "<a><a id=\"two_staged\"></a>\n",
    "## Two-stage queries\n",
    "Below is a simple example to get all symbols who have a total volume over 1000 traded over a single trading day. The first query (stage 1) gets all of the symbols in a particular database. The second query, stage 2, reads in the input produced from the first stage and outputs all symbols with total volume > 1000."
   ]
  },
  {
   "cell_type": "code",
   "execution_count": 24,
   "metadata": {},
   "outputs": [
    {
     "data": {
      "text/html": [
       "<div>\n",
       "<style scoped>\n",
       "    .dataframe tbody tr th:only-of-type {\n",
       "        vertical-align: middle;\n",
       "    }\n",
       "\n",
       "    .dataframe tbody tr th {\n",
       "        vertical-align: top;\n",
       "    }\n",
       "\n",
       "    .dataframe thead th {\n",
       "        text-align: right;\n",
       "    }\n",
       "</style>\n",
       "<table border=\"1\" class=\"dataframe\">\n",
       "  <thead>\n",
       "    <tr style=\"text-align: right;\">\n",
       "      <th></th>\n",
       "      <th>Time</th>\n",
       "      <th>SYMBOL_NAME</th>\n",
       "    </tr>\n",
       "  </thead>\n",
       "  <tbody>\n",
       "    <tr>\n",
       "      <th>0</th>\n",
       "      <td>2003-12-01</td>\n",
       "      <td>DEMO_L1::A</td>\n",
       "    </tr>\n",
       "    <tr>\n",
       "      <th>1</th>\n",
       "      <td>2003-12-01</td>\n",
       "      <td>DEMO_L1::AA</td>\n",
       "    </tr>\n",
       "    <tr>\n",
       "      <th>2</th>\n",
       "      <td>2003-12-01</td>\n",
       "      <td>DEMO_L1::AAA</td>\n",
       "    </tr>\n",
       "    <tr>\n",
       "      <th>3</th>\n",
       "      <td>2003-12-01</td>\n",
       "      <td>DEMO_L1::AABC</td>\n",
       "    </tr>\n",
       "    <tr>\n",
       "      <th>4</th>\n",
       "      <td>2003-12-01</td>\n",
       "      <td>DEMO_L1::AAC</td>\n",
       "    </tr>\n",
       "  </tbody>\n",
       "</table>\n",
       "</div>"
      ],
      "text/plain": [
       "        Time    SYMBOL_NAME\n",
       "0 2003-12-01     DEMO_L1::A\n",
       "1 2003-12-01    DEMO_L1::AA\n",
       "2 2003-12-01   DEMO_L1::AAA\n",
       "3 2003-12-01  DEMO_L1::AABC\n",
       "4 2003-12-01   DEMO_L1::AAC"
      ]
     },
     "execution_count": 24,
     "metadata": {},
     "output_type": "execute_result"
    }
   ],
   "source": [
    "db = 'DEMO_L1::'\n",
    "stage1_graph = otq.Graph(otq.FindDbSymbols(pattern='%').tick_type('TRD'))\n",
    "symbols=otq.run(stage1_graph,symbols=db,start=datetime(2003,12,1),end=datetime(2015,12,15))\n",
    "pd.DataFrame(symbols.output(db).data).head()"
   ]
  },
  {
   "cell_type": "markdown",
   "metadata": {},
   "source": [
    "Now we can run the second query. Note that the output from the previous query is used as input to the next query, below (i.e., as a binded symbol list to the **merge** EP):"
   ]
  },
  {
   "cell_type": "code",
   "execution_count": 25,
   "metadata": {},
   "outputs": [
    {
     "data": {
      "text/plain": [
       "SymbolNumpyResultMap({'': {'VALUE_COMPARE': ({'Time': array(['2015-12-15T16:00:00.000000', '2015-12-15T16:00:00.000000',\n",
       "       '2015-12-15T16:00:00.000000', '2015-12-15T16:00:00.000000',\n",
       "       '2015-12-15T16:00:00.000000', '2015-12-15T16:00:00.000000'],\n",
       "      dtype='datetime64[us]'), 'VALUE': array([ 2942.,  4612.,  1955.,  1317., 13066.,  1458.]), 'SYMBOL_NAME': array(['DEMO_L1::A', 'DEMO_L1::AA', 'DEMO_L1::AAI', 'DEMO_L1::AAII',\n",
       "       'DEMO_L1::AAPL', 'DEMO_L1::ABAX'], dtype='<U40'), 'TICK_TYPE': array(['TRD', 'TRD', 'TRD', 'TRD', 'TRD', 'TRD'], dtype='<U20')}, [])}})"
      ]
     },
     "execution_count": 25,
     "metadata": {},
     "output_type": "execute_result"
    }
   ],
   "source": [
    "stage2_graph = otq.Graph(otq.NumTicks().tick_type('TRD') >> otq.Merge().symbols(symbols) >> otq.ValueCompare(field='VALUE',value=1000))\n",
    "db_list = otq.run(stage2_graph, symbols=None, start=datetime(2003,12,1,9,30), end=datetime(2015,12,15,16))\n",
    "db_list"
   ]
  },
  {
   "cell_type": "markdown",
   "metadata": {},
   "source": [
    "<a><a id=\"N_staged\"></a>\n",
    "## N-stage queries\n",
    "Continuing to use the results from the previous queries."
   ]
  },
  {
   "cell_type": "code",
   "execution_count": 26,
   "metadata": {},
   "outputs": [],
   "source": [
    "graph = otq.Graph(otq.Sum(output_field_name='TOTAL').tick_type('TRD'))\n",
    "num_dbs = otq.run(graph, symbols=db_list, start=datetime(2003,12,1,9,30), end=datetime(2015,12,15,16))"
   ]
  },
  {
   "cell_type": "markdown",
   "metadata": {},
   "source": [
    "<a><a id=\"callbacks\"></a>\n",
    "## Process data via Callbacks"
   ]
  },
  {
   "cell_type": "code",
   "execution_count": 27,
   "metadata": {},
   "outputs": [],
   "source": [
    "class PrintingCallback(otq.CallbackBase):\n",
    "    def __init__(self):\n",
    "        otq.CallbackBase.__init__(self)\n",
    "        self.timezone = 'GMT'\n",
    "\n",
    "    def replicate(self):\n",
    "        return PrintingCallback()\n",
    "\n",
    "    def process_tick_descriptor(self, desc):\n",
    "        pass\n",
    "\n",
    "    def process_callback_label(self, callback_label):\n",
    "        print('callback_label: ' + callback_label)\n",
    "\n",
    "    def process_symbol_name(self, symbol_name):\n",
    "        print('symbol_name is:' + symbol_name)\n",
    "\n",
    "    def process_symbol_group_name(self, symbol_group_name):\n",
    "        print('symbol_group_name is: ' + symbol_group_name)\n",
    "\n",
    "    def process_tick_type(self, tick_type):\n",
    "        print('tick_type is: ' + tick_type)\n",
    "\n",
    "    def process_tick(self, tick, time):\n",
    "        print(tick)\n",
    "        \n",
    "    def process_sorting_order(self, sorted_by_time_flag):\n",
    "        print('sorted_by_time_flag is: ' + sorted_by_time_flag)\n",
    "\n",
    "    def process_data_quality_change(self, symbol_name, data_quality, time):\n",
    "        print('data_quality for symbol' + symbol_name + 'is: ' + symbol_name)\n",
    "\n",
    "    def done(self):\n",
    "        print('done!')\n",
    "\n",
    "    def process_error(self, error_code, error_msg):\n",
    "        print('error' + error_code + error_msg)\n",
    " "
   ]
  },
  {
   "cell_type": "code",
   "execution_count": 28,
   "metadata": {},
   "outputs": [
    {
     "name": "stdout",
     "output_type": "stream",
     "text": [
      "callback_label: VWAP_and_Running_VWAP\n",
      "symbol_name is:DEMO_L1::AAPL\n",
      "tick_type is: TRD\n",
      "{'VWAP': (21.10916547572647,)}\n",
      "{'VWAP': (21.241901188389317,)}\n",
      "{'VWAP': (21.27339434096939,)}\n",
      "{'VWAP': (21.36094167430092,)}\n",
      "{'VWAP': (21.398246799946488,)}\n",
      "{'VWAP': (21.398887614634983,)}\n",
      "{'VWAP': (21.564771864031925,)}\n",
      "{'VWAP': (21.588941115412673,)}\n",
      "{'VWAP': (21.61411565130069,)}\n",
      "{'VWAP': (21.58715466811227,)}\n",
      "{'VWAP': (21.451906163032994,)}\n",
      "{'VWAP': (21.408748948710876,)}\n",
      "{'VWAP': (21.37585927455084,)}\n",
      "{'VWAP': (21.382338927023113,)}\n",
      "{'VWAP': (21.40528219622768,)}\n",
      "{'VWAP': (21.39951634328959,)}\n",
      "{'VWAP': (21.335007002536056,)}\n",
      "{'VWAP': (21.321265790049537,)}\n",
      "{'VWAP': (21.350907209382544,)}\n",
      "{'VWAP': (21.35966114619792,)}\n",
      "{'VWAP': (21.367405829656015,)}\n",
      "{'VWAP': (21.371952228674967,)}\n",
      "{'VWAP': (21.404432000682196,)}\n",
      "{'VWAP': (21.499241083785193,)}\n",
      "{'VWAP': (21.553830716417163,)}\n",
      "{'VWAP': (21.595595420614412,)}\n",
      "{'VWAP': (21.58787756907855,)}\n",
      "{'VWAP': (21.56855712487764,)}\n",
      "{'VWAP': (21.537465810045827,)}\n",
      "{'VWAP': (21.56968960139091,)}\n",
      "{'VWAP': (21.638780504557786,)}\n",
      "{'VWAP': (21.689994249508594,)}\n",
      "{'VWAP': (21.71101379884613,)}\n",
      "{'VWAP': (21.68233850129199,)}\n",
      "{'VWAP': (21.68667728531856,)}\n",
      "{'VWAP': (21.708718279569894,)}\n",
      "{'VWAP': (21.688839946634534,)}\n",
      "{'VWAP': (21.663244997295834,)}\n",
      "{'VWAP': (21.662988179669032,)}\n",
      "{'VWAP': (21.67230888676541,)}\n",
      "{'VWAP': (21.661874959881892,)}\n",
      "{'VWAP': (21.650344479211977,)}\n",
      "{'VWAP': (21.637258133454583,)}\n",
      "{'VWAP': (21.58245507927854,)}\n",
      "{'VWAP': (21.58696520644823,)}\n",
      "{'VWAP': (21.575565785787656,)}\n",
      "{'VWAP': (21.58081025545105,)}\n",
      "{'VWAP': (21.592724436572798,)}\n",
      "{'VWAP': (21.575102189781024,)}\n",
      "{'VWAP': (21.605947889141525,)}\n",
      "{'VWAP': (21.629714910983616,)}\n",
      "{'VWAP': (21.60614341932663,)}\n",
      "{'VWAP': (21.624854595487065,)}\n",
      "{'VWAP': (21.649266468747488,)}\n",
      "{'VWAP': (21.611457341269848,)}\n",
      "{'VWAP': (21.620038433722492,)}\n",
      "{'VWAP': (21.55256387094181,)}\n",
      "{'VWAP': (21.514760316886306,)}\n",
      "{'VWAP': (21.48464140501652,)}\n",
      "{'VWAP': (21.474854471069552,)}\n",
      "{'VWAP': (21.572880078490837,)}\n",
      "{'VWAP': (21.59410643220731,)}\n",
      "{'VWAP': (21.596252829957784,)}\n",
      "{'VWAP': (21.607959153071018,)}\n",
      "{'VWAP': (21.61118818022895,)}\n",
      "{'VWAP': (21.592110181079853,)}\n",
      "{'VWAP': (21.59582307245535,)}\n",
      "{'VWAP': (21.56669191825483,)}\n",
      "{'VWAP': (21.599742970694198,)}\n",
      "{'VWAP': (21.64638230397209,)}\n",
      "{'VWAP': (21.70441445954348,)}\n",
      "{'VWAP': (21.702588360781643,)}\n",
      "{'VWAP': (21.734360431552034,)}\n",
      "{'VWAP': (21.752060199723655,)}\n",
      "{'VWAP': (21.710818630018238,)}\n",
      "{'VWAP': (21.68518806201278,)}\n",
      "{'VWAP': (21.7020721562987,)}\n",
      "{'VWAP': (21.721435789558683,)}\n",
      "done!\n"
     ]
    }
   ],
   "source": [
    "otq_file='C:/OMD/one_market_data/one_tick/docs/otqs/AGGREGATION_EXAMPLES.otq::VWAP_and_Running_VWAP'\n",
    "cb = PrintingCallback()\n",
    "otq.run(otq_file, output_mode = otq.QueryOutputMode.callback, callback = cb)"
   ]
  },
  {
   "cell_type": "markdown",
   "metadata": {},
   "source": [
    "Callback does not have to implement every of this methods, it can only impement what it needs,\n",
    "but do not forget to override replicate method if your callback has fields that are modified over time."
   ]
  },
  {
   "cell_type": "code",
   "execution_count": 29,
   "metadata": {},
   "outputs": [],
   "source": [
    "class CountingCallback(otq.CallbackBase):\n",
    "    def __init__(self):\n",
    "        otq.CallbackBase.__init__(self)\n",
    "        self.num_processed_ticks = 0\n",
    "\n",
    "    def replicate(self):\n",
    "        new = CountingCallback()\n",
    "        new.num_processed_ticks = self.num_processed_ticks\n",
    "        return new\n",
    "\n",
    "    def process_tick(self, tick, time):\n",
    "        self.num_processed_ticks += 1\n",
    "        \n",
    "    def done(self):\n",
    "        print('done! Number of processed ticks is: {}'.format(self.num_processed_ticks))\n",
    "        "
   ]
  },
  {
   "cell_type": "code",
   "execution_count": 30,
   "metadata": {},
   "outputs": [
    {
     "name": "stdout",
     "output_type": "stream",
     "text": [
      "done! Number of processed ticks is: 78\n"
     ]
    }
   ],
   "source": [
    "otq_file='C:/OMD/one_market_data/one_tick/docs/otqs/AGGREGATION_EXAMPLES.otq::VWAP_and_Running_VWAP'\n",
    "cb = CountingCallback()\n",
    "otq.run(otq_file, output_mode = otq.QueryOutputMode.callback, callback = cb)"
   ]
  },
  {
   "cell_type": "code",
   "execution_count": null,
   "metadata": {},
   "outputs": [],
   "source": []
  }
 ],
 "metadata": {
  "kernelspec": {
   "display_name": "Python 3",
   "language": "python",
   "name": "python3"
  },
  "language_info": {
   "codemirror_mode": {
    "name": "ipython",
    "version": 3
   },
   "file_extension": ".py",
   "mimetype": "text/x-python",
   "name": "python",
   "nbconvert_exporter": "python",
   "pygments_lexer": "ipython3",
   "version": "3.6.4"
  }
 },
 "nbformat": 4,
 "nbformat_minor": 2
}
