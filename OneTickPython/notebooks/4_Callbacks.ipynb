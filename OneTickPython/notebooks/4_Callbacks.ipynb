{
 "cells": [
  {
   "cell_type": "code",
   "execution_count": 1,
   "metadata": {},
   "outputs": [
    {
     "data": {
      "text/plain": [
       "<pyomd.OneTickLib; proxy of <Swig Object of type 'OneTickLib *' at 0x000002B733EB55A0> >"
      ]
     },
     "execution_count": 1,
     "metadata": {},
     "output_type": "execute_result"
    }
   ],
   "source": [
    "import copy\n",
    "import onetick.query as otq\n",
    "from datetime import datetime\n",
    "otq.OneTickLib(None)"
   ]
  },
  {
   "cell_type": "code",
   "execution_count": null,
   "metadata": {},
   "outputs": [],
   "source": [
    "class PrintingCallback(otq.CallbackBase):\n",
    "    def __init__(self):\n",
    "        otq.CallbackBase.__init__(self)\n",
    "        self.timezone = 'GMT'\n",
    "\n",
    "    def replicate(self):\n",
    "        return PrintingCallback()\n",
    "\n",
    "    def process_tick_descriptor(self, desc):\n",
    "        pass\n",
    "\n",
    "    def process_callback_label(self, callback_label):\n",
    "        print('callback_label: ' + callback_label)\n",
    "\n",
    "    def process_symbol_name(self, symbol_name):\n",
    "        print('symbol_name is:' + symbol_name)\n",
    "\n",
    "    def process_symbol_group_name(self, symbol_group_name):\n",
    "        print('symbol_group_name is: ' + symbol_group_name)\n",
    "\n",
    "    def process_tick_type(self, tick_type):\n",
    "        print('tick_type is: ' + tick_type)\n",
    "\n",
    "    def process_tick(self, tick, time):\n",
    "        print(tick)\n",
    "        \n",
    "    def process_sorting_order(self, sorted_by_time_flag):\n",
    "        print('sorted_by_time_flag is: ' + sorted_by_time_flag)\n",
    "\n",
    "    def process_data_quality_change(self, symbol_name, data_quality, time):\n",
    "        print('data_quality for symbol' + symbol_name + 'is: ' + symbol_name)\n",
    "\n",
    "    def done(self):\n",
    "        print('done!')\n",
    "\n",
    "    def process_error(self, error_code, error_msg):\n",
    "        print('error' + error_code + error_msg)\n",
    " \n"
   ]
  },
  {
   "cell_type": "code",
   "execution_count": null,
   "metadata": {},
   "outputs": [],
   "source": [
    "otq_file=otq.Graph(otq.Passthrough().tick_type('TRD'))\n",
    "cb = PrintingCallback()\n",
    "otq.run(otq_file, symbols='FULL_DEMO_L1::GS',output_mode = 'callback', callback=cb, start=datetime(2005,1,3,9,30), end=datetime(2005,1,3,16))"
   ]
  }
 ],
 "metadata": {
  "kernelspec": {
   "display_name": "Python 3",
   "language": "python",
   "name": "python3"
  },
  "language_info": {
   "codemirror_mode": {
    "name": "ipython",
    "version": 3
   },
   "file_extension": ".py",
   "mimetype": "text/x-python",
   "name": "python",
   "nbconvert_exporter": "python",
   "pygments_lexer": "ipython3",
   "version": "3.6.4"
  }
 },
 "nbformat": 4,
 "nbformat_minor": 2
}
