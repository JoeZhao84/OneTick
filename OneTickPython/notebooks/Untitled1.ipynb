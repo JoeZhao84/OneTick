{
 "cells": [
  {
   "cell_type": "code",
   "execution_count": 9,
   "metadata": {},
   "outputs": [],
   "source": [
    "import onetick.query as otq\n",
    "import pandas as pd\n",
    "import matplotlib.pyplot as plt\n",
    "from datetime import datetime\n",
    "pd.set_option('display.width', 200)"
   ]
  },
  {
   "cell_type": "code",
   "execution_count": 2,
   "metadata": {},
   "outputs": [],
   "source": [
    "g = otq.Graph(otq.FindDbSymbols(pattern='%').tick_type('DUMMY'))\n",
    "symbols = 'FULL_DEMO_L1::'"
   ]
  },
  {
   "cell_type": "code",
   "execution_count": 4,
   "metadata": {},
   "outputs": [],
   "source": [
    "start=datetime(2005,1,3,9,30)\n",
    "end=datetime(2005,1,3,16)\n",
    "stage1 = otq.run(g,symbols=symbols,start=start,end=end)"
   ]
  },
  {
   "cell_type": "code",
   "execution_count": 12,
   "metadata": {},
   "outputs": [
    {
     "name": "stdout",
     "output_type": "stream",
     "text": [
      "Symbol('FULL_DEMO_L1::', None)                   Time         SYMBOL_NAME\n",
      "0  2005-01-03 09:30:00     FULL_DEMO_L1::A\n",
      "1  2005-01-03 09:30:00    FULL_DEMO_L1::AA\n",
      "2  2005-01-03 09:30:00   FULL_DEMO_L1::AAA\n",
      "3  2005-01-03 09:30:00     FULL_DEMO_L1::C\n",
      "4  2005-01-03 09:30:00  FULL_DEMO_L1::CSCO\n",
      "5  2005-01-03 09:30:00   FULL_DEMO_L1::CVX\n",
      "6  2005-01-03 09:30:00    FULL_DEMO_L1::GS\n",
      "7  2005-01-03 09:30:00   FULL_DEMO_L1::IBM\n",
      "8  2005-01-03 09:30:00   FULL_DEMO_L1::LEH\n",
      "9  2005-01-03 09:30:00    FULL_DEMO_L1::MS\n",
      "10 2005-01-03 09:30:00  FULL_DEMO_L1::MSFT\n",
      "11 2005-01-03 09:30:00  FULL_DEMO_L1::ORCL\n",
      "12 2005-01-03 09:30:00    FULL_DEMO_L1::VZ\n",
      "13 2005-01-03 09:30:00   FULL_DEMO_L1::XRX\n"
     ]
    }
   ],
   "source": [
    "for k,v in stage1.items():\n",
    "    print(k,pd.DataFrame(stage1[k]))"
   ]
  },
  {
   "cell_type": "code",
   "execution_count": 14,
   "metadata": {},
   "outputs": [
    {
     "name": "stdout",
     "output_type": "stream",
     "text": [
      "FULL_DEMO_L1::A\n",
      "                      Time  PRICE    SIZE EXCHANGE\n",
      "0 2005-01-03 14:30:21.534   24.1  109100        N\n",
      "1 2005-01-03 14:30:22.448   24.1    1000        M\n",
      "2 2005-01-03 14:30:22.984   24.1    2000        M\n",
      "3 2005-01-03 14:30:22.987   24.1     100        M\n",
      "4 2005-01-03 14:30:22.991   24.1     300        M\n",
      "FULL_DEMO_L1::AA\n",
      "                      Time  PRICE    SIZE EXCHANGE\n",
      "0 2005-01-03 13:33:50.269   31.5    1000        P\n",
      "1 2005-01-03 14:31:06.008   31.8  132000        N\n",
      "2 2005-01-03 14:31:07.008   31.8     100        M\n",
      "3 2005-01-03 14:31:07.011   31.8     100        M\n",
      "4 2005-01-03 14:31:07.014   31.8    1400        M\n",
      "FULL_DEMO_L1::AAA\n",
      "                      Time  PRICE  SIZE EXCHANGE\n",
      "0 2005-01-03 14:32:19.591  62.80   100        N\n",
      "1 2005-01-03 15:49:21.311  62.85   200        N\n",
      "2 2005-01-03 15:49:22.781  62.86   400        N\n",
      "3 2005-01-03 15:50:16.300  62.88   100        N\n",
      "4 2005-01-03 15:50:17.323  62.89   100        N\n",
      "FULL_DEMO_L1::C\n",
      "                      Time  PRICE    SIZE EXCHANGE\n",
      "0 2005-01-03 14:30:52.469   49.0  551700        N\n",
      "1 2005-01-03 14:30:52.969   49.0     500        C\n",
      "2 2005-01-03 14:30:53.479   49.0     300        M\n",
      "3 2005-01-03 14:30:53.483   49.0     500        M\n",
      "4 2005-01-03 14:30:53.487   49.0     100        M\n",
      "FULL_DEMO_L1::CSCO\n",
      "                  Time  PRICE  SIZE EXCHANGE\n",
      "0 2005-01-03 13:00:29  19.44   400        P\n",
      "1 2005-01-03 13:01:00  19.43   600        C\n",
      "2 2005-01-03 13:01:00  19.43   400        C\n",
      "3 2005-01-03 13:01:00  19.43  1000        C\n",
      "4 2005-01-03 13:01:00  19.43  1000        C\n",
      "FULL_DEMO_L1::CVX\n",
      "                      Time  PRICE   SIZE EXCHANGE\n",
      "0 2005-01-03 13:21:36.086  52.50    100        P\n",
      "1 2005-01-03 14:34:14.315  52.46  76100        N\n",
      "2 2005-01-03 14:34:15.333  52.46    100        T\n",
      "3 2005-01-03 14:34:15.336  52.46    700        T\n",
      "4 2005-01-03 14:34:15.373  52.46    100        M\n",
      "FULL_DEMO_L1::GS\n",
      "                      Time  PRICE   SIZE EXCHANGE\n",
      "0 2005-01-03 14:31:52.011  104.9  40400        N\n",
      "1 2005-01-03 14:31:53.008  104.9   1200        T\n",
      "2 2005-01-03 14:31:53.508  104.9   1000        T\n",
      "3 2005-01-03 14:31:53.511  104.9    100        T\n",
      "4 2005-01-03 14:31:53.515  104.9    200        T\n",
      "FULL_DEMO_L1::IBM\n",
      "                      Time  PRICE    SIZE EXCHANGE\n",
      "0 2005-01-03 13:39:36.178  98.85     100        P\n",
      "1 2005-01-03 13:48:11.174  98.95     100        P\n",
      "2 2005-01-03 14:28:40.266  99.48     100        P\n",
      "3 2005-01-03 14:30:09.766  98.97  144200        N\n",
      "4 2005-01-03 14:30:11.267  98.97    1000        C\n",
      "FULL_DEMO_L1::LEH\n",
      "                      Time  PRICE   SIZE EXCHANGE\n",
      "0 2005-01-03 14:31:15.278   88.0  20500        N\n",
      "1 2005-01-03 14:31:16.774   88.0    100        M\n",
      "2 2005-01-03 14:31:16.778   88.0    100        M\n",
      "3 2005-01-03 14:31:17.274   88.0    700        T\n",
      "4 2005-01-03 14:31:18.282   88.0    200        B\n",
      "FULL_DEMO_L1::MS\n",
      "                      Time  PRICE  SIZE EXCHANGE\n",
      "0 2005-01-03 14:32:23.641   1.82  2700        A\n",
      "1 2005-01-03 14:34:51.646   1.82  1100        T\n",
      "2 2005-01-03 14:36:06.143   1.82  1000        T\n",
      "3 2005-01-03 14:37:13.684   1.82   600        A\n",
      "4 2005-01-03 14:37:19.142   1.82  1000        A\n",
      "FULL_DEMO_L1::MSFT\n",
      "                  Time  PRICE  SIZE EXCHANGE\n",
      "0 2005-01-03 13:00:01  26.81   300        P\n",
      "1 2005-01-03 13:00:01  26.72   295        P\n",
      "2 2005-01-03 13:00:02  26.80   500        P\n",
      "3 2005-01-03 13:00:23  26.79   400        Q\n",
      "4 2005-01-03 13:01:00  26.85   300        C\n",
      "FULL_DEMO_L1::ORCL\n",
      "                  Time  PRICE   SIZE EXCHANGE\n",
      "0 2005-01-03 13:00:13  13.77   1000        P\n",
      "1 2005-01-03 13:01:02  13.80   1000        C\n",
      "2 2005-01-03 13:01:02  13.80   1000        C\n",
      "3 2005-01-03 13:01:58  13.72  15250        Q\n",
      "4 2005-01-03 13:02:00  13.72  26100        Q\n",
      "FULL_DEMO_L1::VZ\n",
      "                      Time  PRICE    SIZE EXCHANGE\n",
      "0 2005-01-03 14:24:03.581  40.51    1000        P\n",
      "1 2005-01-03 14:24:04.081  40.51    1000        P\n",
      "2 2005-01-03 14:24:04.083  40.51     400        P\n",
      "3 2005-01-03 14:31:39.100  40.80  172700        N\n",
      "4 2005-01-03 14:31:40.111  40.80     200        M\n",
      "FULL_DEMO_L1::XRX\n",
      "                      Time  PRICE    SIZE EXCHANGE\n",
      "0 2005-01-03 14:30:35.621  16.89  111800        N\n",
      "1 2005-01-03 14:30:36.621  16.89     200        M\n",
      "2 2005-01-03 14:30:36.625  16.89    1000        M\n",
      "3 2005-01-03 14:30:36.629  16.89     100        M\n",
      "4 2005-01-03 14:30:36.633  16.89     100        M\n"
     ]
    }
   ],
   "source": [
    "pt = otq.Passthrough(fields='PRICE,SIZE,EXCHANGE').tick_type('TRD')\n",
    "result = otq.run(otq.Graph(pt), symbols = stage1,start=start,end=end)\n",
    "for k,v in result.items():\n",
    "    print('{}\\n'.format(k.name), pd.DataFrame(result[k.name]).head())"
   ]
  },
  {
   "cell_type": "code",
   "execution_count": null,
   "metadata": {},
   "outputs": [],
   "source": [
    "#get every symbol start with C\n",
    "#calculate the average price and  filter by avg_price < 50\n",
    "pt >> otq.FindDbSymbols(pattern='%')\n",
    "\n"
   ]
  }
 ],
 "metadata": {
  "kernelspec": {
   "display_name": "Python 3",
   "language": "python",
   "name": "python3"
  },
  "language_info": {
   "codemirror_mode": {
    "name": "ipython",
    "version": 3
   },
   "file_extension": ".py",
   "mimetype": "text/x-python",
   "name": "python",
   "nbconvert_exporter": "python",
   "pygments_lexer": "ipython3",
   "version": "3.6.4"
  }
 },
 "nbformat": 4,
 "nbformat_minor": 2
}
